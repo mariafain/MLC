{
 "cells": [
  {
   "cell_type": "markdown",
   "metadata": {
    "id": "bN0_AuOxAX3t"
   },
   "source": [
    "# Machine Learning Complements Project\n",
    "# IMDb Movies Recommender System and Genre Prediction\n",
    "### G5 - Veronija Kodovska, Maria Fain and Fabijan Bošnjak"
   ]
  },
  {
   "cell_type": "code",
   "execution_count": 44,
   "metadata": {
    "colab": {
     "base_uri": "https://localhost:8080/"
    },
    "id": "lRLvwJ0_AX3x",
    "outputId": "d94c5412-b58b-4ad3-dbfe-f09f0af542fc"
   },
   "outputs": [],
   "source": [
    "import pandas as pd\n",
    "import numpy as np\n",
    "import json\n",
    "import nltk\n",
    "from datetime import datetime, timedelta\n",
    "from pathlib import Path\n",
    "#nltk.download('stopwords')\n",
    "import re\n",
    "import csv\n",
    "import matplotlib.pyplot as plt \n",
    "import seaborn as sns\n",
    "from tqdm import tqdm\n",
    "from sklearn.feature_extraction.text import TfidfVectorizer\n",
    "from sklearn.model_selection import train_test_split\n",
    "from recommenders.datasets.python_splitters import python_stratified_split\n",
    "from nltk.corpus import stopwords\n",
    "from nltk.stem.porter import PorterStemmer\n",
    "from wordcloud import WordCloud\n",
    "from sklearn.preprocessing import MultiLabelBinarizer\n",
    "from sklearn.linear_model import LogisticRegression\n",
    "from sklearn.multiclass import OneVsRestClassifier\n",
    "from sklearn.metrics import f1_score\n",
    "from sklearn.metrics import accuracy_score\n",
    "from scipy.sparse import csr_matrix\n",
    "from scipy.sparse.linalg import svds"
   ]
  },
  {
   "cell_type": "code",
   "execution_count": 2,
   "metadata": {
    "id": "-p3FCEy1tYM5"
   },
   "outputs": [],
   "source": [
    "movies = pd.read_csv(\"movies_metadata.csv\", sep = ',', low_memory=False)"
   ]
  },
  {
   "cell_type": "code",
   "execution_count": 3,
   "metadata": {
    "id": "FV9BwWZqAX3z"
   },
   "outputs": [],
   "source": [
    "ratings = pd.read_csv(\"ratings.csv\")\n",
    "#for a more fast run you can load the smaller dataset right away\n",
    "#ratings_small = pd.read_csv(\"ratings_smaller.csv\")"
   ]
  },
  {
   "cell_type": "code",
   "execution_count": 4,
   "metadata": {
    "colab": {
     "base_uri": "https://localhost:8080/"
    },
    "id": "yQwRsaipAX3z",
    "outputId": "df8f996f-936d-4732-8a2e-cbde1f31ba4c"
   },
   "outputs": [
    {
     "data": {
      "text/plain": [
       "Index(['adult', 'belongs_to_collection', 'budget', 'genres', 'homepage', 'id',\n",
       "       'imdb_id', 'original_language', 'original_title', 'overview',\n",
       "       'popularity', 'poster_path', 'production_companies',\n",
       "       'production_countries', 'release_date', 'revenue', 'runtime',\n",
       "       'spoken_languages', 'status', 'tagline', 'title', 'video',\n",
       "       'vote_average', 'vote_count'],\n",
       "      dtype='object')"
      ]
     },
     "execution_count": 4,
     "metadata": {},
     "output_type": "execute_result"
    }
   ],
   "source": [
    "movies.columns"
   ]
  },
  {
   "cell_type": "markdown",
   "metadata": {
    "id": "Vq7hnoydAX3z"
   },
   "source": [
    "We will be using two datasets - movies and ratings, one with information about movies from IMDb which will be used for genre prediction and the other, containing the same movies with ratings from users which will be used for building a recommender system which we will merge after preprocessing the data."
   ]
  },
  {
   "cell_type": "code",
   "execution_count": 5,
   "metadata": {
    "colab": {
     "base_uri": "https://localhost:8080/",
     "height": 424
    },
    "id": "zZpv3xADAX30",
    "outputId": "3668951a-d34a-489d-a579-96f91967c81d"
   },
   "outputs": [
    {
     "data": {
      "text/html": [
       "<div>\n",
       "<style scoped>\n",
       "    .dataframe tbody tr th:only-of-type {\n",
       "        vertical-align: middle;\n",
       "    }\n",
       "\n",
       "    .dataframe tbody tr th {\n",
       "        vertical-align: top;\n",
       "    }\n",
       "\n",
       "    .dataframe thead th {\n",
       "        text-align: right;\n",
       "    }\n",
       "</style>\n",
       "<table border=\"1\" class=\"dataframe\">\n",
       "  <thead>\n",
       "    <tr style=\"text-align: right;\">\n",
       "      <th></th>\n",
       "      <th>genres</th>\n",
       "      <th>movieId</th>\n",
       "      <th>overview</th>\n",
       "      <th>title</th>\n",
       "    </tr>\n",
       "  </thead>\n",
       "  <tbody>\n",
       "    <tr>\n",
       "      <th>0</th>\n",
       "      <td>[{'id': 16, 'name': 'Animation'}, {'id': 35, '...</td>\n",
       "      <td>862</td>\n",
       "      <td>Led by Woody, Andy's toys live happily in his ...</td>\n",
       "      <td>Toy Story</td>\n",
       "    </tr>\n",
       "    <tr>\n",
       "      <th>1</th>\n",
       "      <td>[{'id': 12, 'name': 'Adventure'}, {'id': 14, '...</td>\n",
       "      <td>8844</td>\n",
       "      <td>When siblings Judy and Peter discover an encha...</td>\n",
       "      <td>Jumanji</td>\n",
       "    </tr>\n",
       "    <tr>\n",
       "      <th>2</th>\n",
       "      <td>[{'id': 10749, 'name': 'Romance'}, {'id': 35, ...</td>\n",
       "      <td>15602</td>\n",
       "      <td>A family wedding reignites the ancient feud be...</td>\n",
       "      <td>Grumpier Old Men</td>\n",
       "    </tr>\n",
       "    <tr>\n",
       "      <th>3</th>\n",
       "      <td>[{'id': 35, 'name': 'Comedy'}, {'id': 18, 'nam...</td>\n",
       "      <td>31357</td>\n",
       "      <td>Cheated on, mistreated and stepped on, the wom...</td>\n",
       "      <td>Waiting to Exhale</td>\n",
       "    </tr>\n",
       "    <tr>\n",
       "      <th>4</th>\n",
       "      <td>[{'id': 35, 'name': 'Comedy'}]</td>\n",
       "      <td>11862</td>\n",
       "      <td>Just when George Banks has recovered from his ...</td>\n",
       "      <td>Father of the Bride Part II</td>\n",
       "    </tr>\n",
       "    <tr>\n",
       "      <th>...</th>\n",
       "      <td>...</td>\n",
       "      <td>...</td>\n",
       "      <td>...</td>\n",
       "      <td>...</td>\n",
       "    </tr>\n",
       "    <tr>\n",
       "      <th>45461</th>\n",
       "      <td>[{'id': 18, 'name': 'Drama'}, {'id': 10751, 'n...</td>\n",
       "      <td>439050</td>\n",
       "      <td>Rising and falling between a man and woman.</td>\n",
       "      <td>Subdue</td>\n",
       "    </tr>\n",
       "    <tr>\n",
       "      <th>45462</th>\n",
       "      <td>[{'id': 18, 'name': 'Drama'}]</td>\n",
       "      <td>111109</td>\n",
       "      <td>An artist struggles to finish his work while a...</td>\n",
       "      <td>Century of Birthing</td>\n",
       "    </tr>\n",
       "    <tr>\n",
       "      <th>45463</th>\n",
       "      <td>[{'id': 28, 'name': 'Action'}, {'id': 18, 'nam...</td>\n",
       "      <td>67758</td>\n",
       "      <td>When one of her hits goes wrong, a professiona...</td>\n",
       "      <td>Betrayal</td>\n",
       "    </tr>\n",
       "    <tr>\n",
       "      <th>45464</th>\n",
       "      <td>[]</td>\n",
       "      <td>227506</td>\n",
       "      <td>In a small town live two brothers, one a minis...</td>\n",
       "      <td>Satan Triumphant</td>\n",
       "    </tr>\n",
       "    <tr>\n",
       "      <th>45465</th>\n",
       "      <td>[]</td>\n",
       "      <td>461257</td>\n",
       "      <td>50 years after decriminalisation of homosexual...</td>\n",
       "      <td>Queerama</td>\n",
       "    </tr>\n",
       "  </tbody>\n",
       "</table>\n",
       "<p>45466 rows × 4 columns</p>\n",
       "</div>"
      ],
      "text/plain": [
       "                                                  genres movieId  \\\n",
       "0      [{'id': 16, 'name': 'Animation'}, {'id': 35, '...     862   \n",
       "1      [{'id': 12, 'name': 'Adventure'}, {'id': 14, '...    8844   \n",
       "2      [{'id': 10749, 'name': 'Romance'}, {'id': 35, ...   15602   \n",
       "3      [{'id': 35, 'name': 'Comedy'}, {'id': 18, 'nam...   31357   \n",
       "4                         [{'id': 35, 'name': 'Comedy'}]   11862   \n",
       "...                                                  ...     ...   \n",
       "45461  [{'id': 18, 'name': 'Drama'}, {'id': 10751, 'n...  439050   \n",
       "45462                      [{'id': 18, 'name': 'Drama'}]  111109   \n",
       "45463  [{'id': 28, 'name': 'Action'}, {'id': 18, 'nam...   67758   \n",
       "45464                                                 []  227506   \n",
       "45465                                                 []  461257   \n",
       "\n",
       "                                                overview  \\\n",
       "0      Led by Woody, Andy's toys live happily in his ...   \n",
       "1      When siblings Judy and Peter discover an encha...   \n",
       "2      A family wedding reignites the ancient feud be...   \n",
       "3      Cheated on, mistreated and stepped on, the wom...   \n",
       "4      Just when George Banks has recovered from his ...   \n",
       "...                                                  ...   \n",
       "45461        Rising and falling between a man and woman.   \n",
       "45462  An artist struggles to finish his work while a...   \n",
       "45463  When one of her hits goes wrong, a professiona...   \n",
       "45464  In a small town live two brothers, one a minis...   \n",
       "45465  50 years after decriminalisation of homosexual...   \n",
       "\n",
       "                             title  \n",
       "0                        Toy Story  \n",
       "1                          Jumanji  \n",
       "2                 Grumpier Old Men  \n",
       "3                Waiting to Exhale  \n",
       "4      Father of the Bride Part II  \n",
       "...                            ...  \n",
       "45461                       Subdue  \n",
       "45462          Century of Birthing  \n",
       "45463                     Betrayal  \n",
       "45464             Satan Triumphant  \n",
       "45465                     Queerama  \n",
       "\n",
       "[45466 rows x 4 columns]"
      ]
     },
     "execution_count": 5,
     "metadata": {},
     "output_type": "execute_result"
    }
   ],
   "source": [
    "#delete unnecessary columns\n",
    "movies = movies.drop(['belongs_to_collection', 'adult', 'budget', 'original_language', 'popularity', \n",
    "                'poster_path', 'production_companies', 'production_countries', 'revenue', 'runtime', \n",
    "                'spoken_languages', 'status', 'tagline', 'video', 'vote_average', 'vote_count', 'homepage',\n",
    "                'imdb_id', 'release_date', 'original_title'], axis=1)\n",
    "movies = movies.rename(columns={'id': 'movieId'})\n",
    "movies"
   ]
  },
  {
   "cell_type": "markdown",
   "metadata": {
    "id": "lVaHwNRDAX30"
   },
   "source": [
    "The features we will be using from dataset 1 are:\n",
    " - genres &ndash; an array with the id and name of genres which we will transform\n",
    " - movieId &ndash; movie id\n",
    " - overview &ndash; a text description of the movie\n",
    " - title &ndash; title of the movie"
   ]
  },
  {
   "cell_type": "code",
   "execution_count": 6,
   "metadata": {},
   "outputs": [
    {
     "data": {
      "text/html": [
       "<div>\n",
       "<style scoped>\n",
       "    .dataframe tbody tr th:only-of-type {\n",
       "        vertical-align: middle;\n",
       "    }\n",
       "\n",
       "    .dataframe tbody tr th {\n",
       "        vertical-align: top;\n",
       "    }\n",
       "\n",
       "    .dataframe thead th {\n",
       "        text-align: right;\n",
       "    }\n",
       "</style>\n",
       "<table border=\"1\" class=\"dataframe\">\n",
       "  <thead>\n",
       "    <tr style=\"text-align: right;\">\n",
       "      <th></th>\n",
       "      <th>genres</th>\n",
       "      <th>movieId</th>\n",
       "      <th>overview</th>\n",
       "      <th>title</th>\n",
       "    </tr>\n",
       "  </thead>\n",
       "  <tbody>\n",
       "    <tr>\n",
       "      <th>count</th>\n",
       "      <td>45466</td>\n",
       "      <td>45466</td>\n",
       "      <td>44512</td>\n",
       "      <td>45460</td>\n",
       "    </tr>\n",
       "    <tr>\n",
       "      <th>unique</th>\n",
       "      <td>4069</td>\n",
       "      <td>45436</td>\n",
       "      <td>44307</td>\n",
       "      <td>42277</td>\n",
       "    </tr>\n",
       "    <tr>\n",
       "      <th>top</th>\n",
       "      <td>[{'id': 18, 'name': 'Drama'}]</td>\n",
       "      <td>141971</td>\n",
       "      <td>No overview found.</td>\n",
       "      <td>Cinderella</td>\n",
       "    </tr>\n",
       "    <tr>\n",
       "      <th>freq</th>\n",
       "      <td>5000</td>\n",
       "      <td>3</td>\n",
       "      <td>133</td>\n",
       "      <td>11</td>\n",
       "    </tr>\n",
       "  </tbody>\n",
       "</table>\n",
       "</div>"
      ],
      "text/plain": [
       "                               genres movieId            overview       title\n",
       "count                           45466   45466               44512       45460\n",
       "unique                           4069   45436               44307       42277\n",
       "top     [{'id': 18, 'name': 'Drama'}]  141971  No overview found.  Cinderella\n",
       "freq                             5000       3                 133          11"
      ]
     },
     "execution_count": 6,
     "metadata": {},
     "output_type": "execute_result"
    }
   ],
   "source": [
    "movies.describe()"
   ]
  },
  {
   "cell_type": "code",
   "execution_count": 7,
   "metadata": {
    "colab": {
     "base_uri": "https://localhost:8080/"
    },
    "id": "10WVR_zIAX30",
    "outputId": "555ae5cf-9d9b-4ee1-8402-48f8027c51ea"
   },
   "outputs": [
    {
     "name": "stdout",
     "output_type": "stream",
     "text": [
      "Index(['userId', 'movieId', 'rating', 'timestamp'], dtype='object')\n"
     ]
    },
    {
     "data": {
      "text/html": [
       "<div>\n",
       "<style scoped>\n",
       "    .dataframe tbody tr th:only-of-type {\n",
       "        vertical-align: middle;\n",
       "    }\n",
       "\n",
       "    .dataframe tbody tr th {\n",
       "        vertical-align: top;\n",
       "    }\n",
       "\n",
       "    .dataframe thead th {\n",
       "        text-align: right;\n",
       "    }\n",
       "</style>\n",
       "<table border=\"1\" class=\"dataframe\">\n",
       "  <thead>\n",
       "    <tr style=\"text-align: right;\">\n",
       "      <th></th>\n",
       "      <th>userId</th>\n",
       "      <th>movieId</th>\n",
       "      <th>rating</th>\n",
       "      <th>timestamp</th>\n",
       "    </tr>\n",
       "  </thead>\n",
       "  <tbody>\n",
       "    <tr>\n",
       "      <th>0</th>\n",
       "      <td>1</td>\n",
       "      <td>110</td>\n",
       "      <td>1.0</td>\n",
       "      <td>1425941529</td>\n",
       "    </tr>\n",
       "    <tr>\n",
       "      <th>1</th>\n",
       "      <td>1</td>\n",
       "      <td>147</td>\n",
       "      <td>4.5</td>\n",
       "      <td>1425942435</td>\n",
       "    </tr>\n",
       "    <tr>\n",
       "      <th>2</th>\n",
       "      <td>1</td>\n",
       "      <td>858</td>\n",
       "      <td>5.0</td>\n",
       "      <td>1425941523</td>\n",
       "    </tr>\n",
       "    <tr>\n",
       "      <th>3</th>\n",
       "      <td>1</td>\n",
       "      <td>1221</td>\n",
       "      <td>5.0</td>\n",
       "      <td>1425941546</td>\n",
       "    </tr>\n",
       "    <tr>\n",
       "      <th>4</th>\n",
       "      <td>1</td>\n",
       "      <td>1246</td>\n",
       "      <td>5.0</td>\n",
       "      <td>1425941556</td>\n",
       "    </tr>\n",
       "    <tr>\n",
       "      <th>...</th>\n",
       "      <td>...</td>\n",
       "      <td>...</td>\n",
       "      <td>...</td>\n",
       "      <td>...</td>\n",
       "    </tr>\n",
       "    <tr>\n",
       "      <th>26024284</th>\n",
       "      <td>270896</td>\n",
       "      <td>58559</td>\n",
       "      <td>5.0</td>\n",
       "      <td>1257031564</td>\n",
       "    </tr>\n",
       "    <tr>\n",
       "      <th>26024285</th>\n",
       "      <td>270896</td>\n",
       "      <td>60069</td>\n",
       "      <td>5.0</td>\n",
       "      <td>1257032032</td>\n",
       "    </tr>\n",
       "    <tr>\n",
       "      <th>26024286</th>\n",
       "      <td>270896</td>\n",
       "      <td>63082</td>\n",
       "      <td>4.5</td>\n",
       "      <td>1257031764</td>\n",
       "    </tr>\n",
       "    <tr>\n",
       "      <th>26024287</th>\n",
       "      <td>270896</td>\n",
       "      <td>64957</td>\n",
       "      <td>4.5</td>\n",
       "      <td>1257033990</td>\n",
       "    </tr>\n",
       "    <tr>\n",
       "      <th>26024288</th>\n",
       "      <td>270896</td>\n",
       "      <td>71878</td>\n",
       "      <td>2.0</td>\n",
       "      <td>1257031858</td>\n",
       "    </tr>\n",
       "  </tbody>\n",
       "</table>\n",
       "<p>26024289 rows × 4 columns</p>\n",
       "</div>"
      ],
      "text/plain": [
       "          userId  movieId  rating   timestamp\n",
       "0              1      110     1.0  1425941529\n",
       "1              1      147     4.5  1425942435\n",
       "2              1      858     5.0  1425941523\n",
       "3              1     1221     5.0  1425941546\n",
       "4              1     1246     5.0  1425941556\n",
       "...          ...      ...     ...         ...\n",
       "26024284  270896    58559     5.0  1257031564\n",
       "26024285  270896    60069     5.0  1257032032\n",
       "26024286  270896    63082     4.5  1257031764\n",
       "26024287  270896    64957     4.5  1257033990\n",
       "26024288  270896    71878     2.0  1257031858\n",
       "\n",
       "[26024289 rows x 4 columns]"
      ]
     },
     "execution_count": 7,
     "metadata": {},
     "output_type": "execute_result"
    }
   ],
   "source": [
    "print(ratings.columns)\n",
    "ratings"
   ]
  },
  {
   "cell_type": "markdown",
   "metadata": {
    "id": "UNwJL22bAX31"
   },
   "source": [
    "The features we will be using from dataset 2 are:\n",
    " - userId &ndash; id of the user who gave the review\n",
    " - movieId &ndash; id of the movie the user rated\n",
    " - rating &ndash; a rating on a 5-star scale with half-star increments (0.5 - 5 stars)\n",
    " - timestamp"
   ]
  },
  {
   "cell_type": "code",
   "execution_count": 28,
   "metadata": {},
   "outputs": [
    {
     "data": {
      "text/html": [
       "<div>\n",
       "<style scoped>\n",
       "    .dataframe tbody tr th:only-of-type {\n",
       "        vertical-align: middle;\n",
       "    }\n",
       "\n",
       "    .dataframe tbody tr th {\n",
       "        vertical-align: top;\n",
       "    }\n",
       "\n",
       "    .dataframe thead th {\n",
       "        text-align: right;\n",
       "    }\n",
       "</style>\n",
       "<table border=\"1\" class=\"dataframe\">\n",
       "  <thead>\n",
       "    <tr style=\"text-align: right;\">\n",
       "      <th></th>\n",
       "      <th>userId</th>\n",
       "      <th>movieId</th>\n",
       "      <th>rating</th>\n",
       "    </tr>\n",
       "  </thead>\n",
       "  <tbody>\n",
       "    <tr>\n",
       "      <th>count</th>\n",
       "      <td>2.484810e+07</td>\n",
       "      <td>2.484810e+07</td>\n",
       "      <td>2.484810e+07</td>\n",
       "    </tr>\n",
       "    <tr>\n",
       "      <th>mean</th>\n",
       "      <td>1.350036e+05</td>\n",
       "      <td>1.621173e+04</td>\n",
       "      <td>3.528737e+00</td>\n",
       "    </tr>\n",
       "    <tr>\n",
       "      <th>std</th>\n",
       "      <td>7.817512e+04</td>\n",
       "      <td>3.135802e+04</td>\n",
       "      <td>1.060048e+00</td>\n",
       "    </tr>\n",
       "    <tr>\n",
       "      <th>min</th>\n",
       "      <td>1.000000e+00</td>\n",
       "      <td>1.000000e+00</td>\n",
       "      <td>5.000000e-01</td>\n",
       "    </tr>\n",
       "    <tr>\n",
       "      <th>25%</th>\n",
       "      <td>6.712600e+04</td>\n",
       "      <td>1.088000e+03</td>\n",
       "      <td>3.000000e+00</td>\n",
       "    </tr>\n",
       "    <tr>\n",
       "      <th>50%</th>\n",
       "      <td>1.351340e+05</td>\n",
       "      <td>2.670000e+03</td>\n",
       "      <td>3.500000e+00</td>\n",
       "    </tr>\n",
       "    <tr>\n",
       "      <th>75%</th>\n",
       "      <td>2.026420e+05</td>\n",
       "      <td>6.711000e+03</td>\n",
       "      <td>4.000000e+00</td>\n",
       "    </tr>\n",
       "    <tr>\n",
       "      <th>max</th>\n",
       "      <td>2.708960e+05</td>\n",
       "      <td>1.762750e+05</td>\n",
       "      <td>5.000000e+00</td>\n",
       "    </tr>\n",
       "  </tbody>\n",
       "</table>\n",
       "</div>"
      ],
      "text/plain": [
       "             userId       movieId        rating\n",
       "count  2.484810e+07  2.484810e+07  2.484810e+07\n",
       "mean   1.350036e+05  1.621173e+04  3.528737e+00\n",
       "std    7.817512e+04  3.135802e+04  1.060048e+00\n",
       "min    1.000000e+00  1.000000e+00  5.000000e-01\n",
       "25%    6.712600e+04  1.088000e+03  3.000000e+00\n",
       "50%    1.351340e+05  2.670000e+03  3.500000e+00\n",
       "75%    2.026420e+05  6.711000e+03  4.000000e+00\n",
       "max    2.708960e+05  1.762750e+05  5.000000e+00"
      ]
     },
     "execution_count": 28,
     "metadata": {},
     "output_type": "execute_result"
    }
   ],
   "source": [
    "ratings.describe()"
   ]
  },
  {
   "cell_type": "markdown",
   "metadata": {},
   "source": [
    "Since the ratings dataset is quite large and was giving us trouble with memory and certain functions, we decided to decrease it's size. Firstly, we will transform the timestamps to ISO format and then sort the dataset chronologically. Then we will take the first 2000000 rows and use this dataset going forward. We also exported the smaller dataset to a .csv file for easier uploads and faster testing."
   ]
  },
  {
   "cell_type": "code",
   "execution_count": 8,
   "metadata": {},
   "outputs": [
    {
     "data": {
      "text/html": [
       "<div>\n",
       "<style scoped>\n",
       "    .dataframe tbody tr th:only-of-type {\n",
       "        vertical-align: middle;\n",
       "    }\n",
       "\n",
       "    .dataframe tbody tr th {\n",
       "        vertical-align: top;\n",
       "    }\n",
       "\n",
       "    .dataframe thead th {\n",
       "        text-align: right;\n",
       "    }\n",
       "</style>\n",
       "<table border=\"1\" class=\"dataframe\">\n",
       "  <thead>\n",
       "    <tr style=\"text-align: right;\">\n",
       "      <th></th>\n",
       "      <th>userId</th>\n",
       "      <th>movieId</th>\n",
       "      <th>rating</th>\n",
       "      <th>timestamp</th>\n",
       "    </tr>\n",
       "  </thead>\n",
       "  <tbody>\n",
       "    <tr>\n",
       "      <th>0</th>\n",
       "      <td>38150</td>\n",
       "      <td>1176</td>\n",
       "      <td>4.0</td>\n",
       "      <td>1995-01-09 11:46:44</td>\n",
       "    </tr>\n",
       "    <tr>\n",
       "      <th>1</th>\n",
       "      <td>44717</td>\n",
       "      <td>1079</td>\n",
       "      <td>3.0</td>\n",
       "      <td>1995-01-09 11:46:49</td>\n",
       "    </tr>\n",
       "    <tr>\n",
       "      <th>2</th>\n",
       "      <td>44717</td>\n",
       "      <td>47</td>\n",
       "      <td>5.0</td>\n",
       "      <td>1995-01-09 11:46:49</td>\n",
       "    </tr>\n",
       "    <tr>\n",
       "      <th>3</th>\n",
       "      <td>44717</td>\n",
       "      <td>21</td>\n",
       "      <td>3.0</td>\n",
       "      <td>1995-01-09 11:46:49</td>\n",
       "    </tr>\n",
       "    <tr>\n",
       "      <th>4</th>\n",
       "      <td>190860</td>\n",
       "      <td>21</td>\n",
       "      <td>5.0</td>\n",
       "      <td>1996-01-29 00:00:00</td>\n",
       "    </tr>\n",
       "    <tr>\n",
       "      <th>...</th>\n",
       "      <td>...</td>\n",
       "      <td>...</td>\n",
       "      <td>...</td>\n",
       "      <td>...</td>\n",
       "    </tr>\n",
       "    <tr>\n",
       "      <th>26024284</th>\n",
       "      <td>85434</td>\n",
       "      <td>3210</td>\n",
       "      <td>2.0</td>\n",
       "      <td>2017-08-04 06:38:59</td>\n",
       "    </tr>\n",
       "    <tr>\n",
       "      <th>26024285</th>\n",
       "      <td>85434</td>\n",
       "      <td>82169</td>\n",
       "      <td>3.0</td>\n",
       "      <td>2017-08-04 06:39:06</td>\n",
       "    </tr>\n",
       "    <tr>\n",
       "      <th>26024286</th>\n",
       "      <td>85434</td>\n",
       "      <td>1013</td>\n",
       "      <td>4.0</td>\n",
       "      <td>2017-08-04 06:41:23</td>\n",
       "    </tr>\n",
       "    <tr>\n",
       "      <th>26024287</th>\n",
       "      <td>199634</td>\n",
       "      <td>60040</td>\n",
       "      <td>3.0</td>\n",
       "      <td>2017-08-04 06:53:43</td>\n",
       "    </tr>\n",
       "    <tr>\n",
       "      <th>26024288</th>\n",
       "      <td>179412</td>\n",
       "      <td>167786</td>\n",
       "      <td>3.5</td>\n",
       "      <td>2017-08-04 06:57:50</td>\n",
       "    </tr>\n",
       "  </tbody>\n",
       "</table>\n",
       "<p>26024289 rows × 4 columns</p>\n",
       "</div>"
      ],
      "text/plain": [
       "          userId  movieId  rating            timestamp\n",
       "0          38150     1176     4.0  1995-01-09 11:46:44\n",
       "1          44717     1079     3.0  1995-01-09 11:46:49\n",
       "2          44717       47     5.0  1995-01-09 11:46:49\n",
       "3          44717       21     3.0  1995-01-09 11:46:49\n",
       "4         190860       21     5.0  1996-01-29 00:00:00\n",
       "...          ...      ...     ...                  ...\n",
       "26024284   85434     3210     2.0  2017-08-04 06:38:59\n",
       "26024285   85434    82169     3.0  2017-08-04 06:39:06\n",
       "26024286   85434     1013     4.0  2017-08-04 06:41:23\n",
       "26024287  199634    60040     3.0  2017-08-04 06:53:43\n",
       "26024288  179412   167786     3.5  2017-08-04 06:57:50\n",
       "\n",
       "[26024289 rows x 4 columns]"
      ]
     },
     "execution_count": 8,
     "metadata": {},
     "output_type": "execute_result"
    }
   ],
   "source": [
    "ratings['timestamp'] = ratings.apply(\n",
    "    lambda x: datetime.strftime(datetime(1970, 1, 1, 0, 0, 0) + timedelta(seconds=x['timestamp'].item()), \"%Y-%m-%d %H:%M:%S\"), \n",
    "    axis=1)\n",
    "ratings = ratings.sort_values('timestamp').reset_index(drop=True)\n",
    "ratings"
   ]
  },
  {
   "cell_type": "code",
   "execution_count": 14,
   "metadata": {},
   "outputs": [],
   "source": [
    "ratings_small = ratings.iloc[:2000000,:]\n",
    "filepath = Path('ratings_smaller.csv')\n",
    "filepath.parent.mkdir(parents=True, exist_ok=True)  \n",
    "ratings_small.to_csv(index=False, path_or_buf=filepath)"
   ]
  },
  {
   "cell_type": "code",
   "execution_count": 15,
   "metadata": {
    "scrolled": true
   },
   "outputs": [
    {
     "data": {
      "image/png": "[encoded data removed]",
      "text/plain": [
       "<Figure size 432x288 with 1 Axes>"
      ]
     },
     "metadata": {
      "needs_background": "light"
     },
     "output_type": "display_data"
    }
   ],
   "source": [
    "plt.hist(ratings_small['rating'])\n",
    "plt.title('ratings')\n",
    "plt.show()"
   ]
  },
  {
   "cell_type": "code",
   "execution_count": 17,
   "metadata": {
    "colab": {
     "base_uri": "https://localhost:8080/"
    },
    "id": "hqgO1aYnwftL",
    "outputId": "3b1c477c-4f1d-448e-b02f-5a5d2b63651f",
    "scrolled": true
   },
   "outputs": [
    {
     "name": "stdout",
     "output_type": "stream",
     "text": [
      "genres        0\n",
      "movieId       0\n",
      "overview    954\n",
      "title         6\n",
      "dtype: int64\n",
      "userId       0\n",
      "movieId      0\n",
      "rating       0\n",
      "timestamp    0\n",
      "dtype: int64\n"
     ]
    }
   ],
   "source": [
    "#checking for empty values\n",
    "print(movies.isna().sum())\n",
    "print(ratings_small.isna().sum())"
   ]
  },
  {
   "cell_type": "code",
   "execution_count": 18,
   "metadata": {},
   "outputs": [],
   "source": [
    "#remove movies without titles\n",
    "movies.drop(movies[movies['title'].isna()].index, inplace=True)\n",
    "#remove movies without overview\n",
    "movies.drop(movies[movies['overview'].isna()].index, inplace=True)"
   ]
  },
  {
   "cell_type": "code",
   "execution_count": 19,
   "metadata": {},
   "outputs": [
    {
     "name": "stdout",
     "output_type": "stream",
     "text": [
      "genres      0\n",
      "movieId     0\n",
      "overview    0\n",
      "title       0\n",
      "dtype: int64\n",
      "userId       0\n",
      "movieId      0\n",
      "rating       0\n",
      "timestamp    0\n",
      "dtype: int64\n"
     ]
    }
   ],
   "source": [
    "#checking for empty values\n",
    "print(movies.isna().sum())\n",
    "print(ratings_small.isna().sum())"
   ]
  },
  {
   "cell_type": "code",
   "execution_count": 20,
   "metadata": {
    "colab": {
     "base_uri": "https://localhost:8080/",
     "height": 424
    },
    "id": "zSnQM95jAX32",
    "outputId": "3a455944-f7e3-4207-b641-09d1e7f86c30"
   },
   "outputs": [
    {
     "data": {
      "text/html": [
       "<div>\n",
       "<style scoped>\n",
       "    .dataframe tbody tr th:only-of-type {\n",
       "        vertical-align: middle;\n",
       "    }\n",
       "\n",
       "    .dataframe tbody tr th {\n",
       "        vertical-align: top;\n",
       "    }\n",
       "\n",
       "    .dataframe thead th {\n",
       "        text-align: right;\n",
       "    }\n",
       "</style>\n",
       "<table border=\"1\" class=\"dataframe\">\n",
       "  <thead>\n",
       "    <tr style=\"text-align: right;\">\n",
       "      <th></th>\n",
       "      <th>genres</th>\n",
       "      <th>movieId</th>\n",
       "      <th>overview</th>\n",
       "      <th>title</th>\n",
       "    </tr>\n",
       "  </thead>\n",
       "  <tbody>\n",
       "    <tr>\n",
       "      <th>0</th>\n",
       "      <td>[{'id': 16, 'name': 'Animation'}, {'id': 35, '...</td>\n",
       "      <td>862</td>\n",
       "      <td>Led by Woody, Andy's toys live happily in his ...</td>\n",
       "      <td>Toy Story</td>\n",
       "    </tr>\n",
       "    <tr>\n",
       "      <th>1</th>\n",
       "      <td>[{'id': 12, 'name': 'Adventure'}, {'id': 14, '...</td>\n",
       "      <td>8844</td>\n",
       "      <td>When siblings Judy and Peter discover an encha...</td>\n",
       "      <td>Jumanji</td>\n",
       "    </tr>\n",
       "    <tr>\n",
       "      <th>2</th>\n",
       "      <td>[{'id': 10749, 'name': 'Romance'}, {'id': 35, ...</td>\n",
       "      <td>15602</td>\n",
       "      <td>A family wedding reignites the ancient feud be...</td>\n",
       "      <td>Grumpier Old Men</td>\n",
       "    </tr>\n",
       "    <tr>\n",
       "      <th>3</th>\n",
       "      <td>[{'id': 35, 'name': 'Comedy'}, {'id': 18, 'nam...</td>\n",
       "      <td>31357</td>\n",
       "      <td>Cheated on, mistreated and stepped on, the wom...</td>\n",
       "      <td>Waiting to Exhale</td>\n",
       "    </tr>\n",
       "    <tr>\n",
       "      <th>4</th>\n",
       "      <td>[{'id': 35, 'name': 'Comedy'}]</td>\n",
       "      <td>11862</td>\n",
       "      <td>Just when George Banks has recovered from his ...</td>\n",
       "      <td>Father of the Bride Part II</td>\n",
       "    </tr>\n",
       "    <tr>\n",
       "      <th>...</th>\n",
       "      <td>...</td>\n",
       "      <td>...</td>\n",
       "      <td>...</td>\n",
       "      <td>...</td>\n",
       "    </tr>\n",
       "    <tr>\n",
       "      <th>45459</th>\n",
       "      <td>[{'id': 878, 'name': 'Science Fiction'}]</td>\n",
       "      <td>222848</td>\n",
       "      <td>It's the year 3000 AD. The world's most danger...</td>\n",
       "      <td>Caged Heat 3000</td>\n",
       "    </tr>\n",
       "    <tr>\n",
       "      <th>45460</th>\n",
       "      <td>[{'id': 18, 'name': 'Drama'}, {'id': 28, 'name...</td>\n",
       "      <td>30840</td>\n",
       "      <td>Yet another version of the classic epic, with ...</td>\n",
       "      <td>Robin Hood</td>\n",
       "    </tr>\n",
       "    <tr>\n",
       "      <th>45461</th>\n",
       "      <td>[{'id': 18, 'name': 'Drama'}, {'id': 10751, 'n...</td>\n",
       "      <td>439050</td>\n",
       "      <td>Rising and falling between a man and woman.</td>\n",
       "      <td>Subdue</td>\n",
       "    </tr>\n",
       "    <tr>\n",
       "      <th>45462</th>\n",
       "      <td>[{'id': 18, 'name': 'Drama'}]</td>\n",
       "      <td>111109</td>\n",
       "      <td>An artist struggles to finish his work while a...</td>\n",
       "      <td>Century of Birthing</td>\n",
       "    </tr>\n",
       "    <tr>\n",
       "      <th>45463</th>\n",
       "      <td>[{'id': 28, 'name': 'Action'}, {'id': 18, 'nam...</td>\n",
       "      <td>67758</td>\n",
       "      <td>When one of her hits goes wrong, a professiona...</td>\n",
       "      <td>Betrayal</td>\n",
       "    </tr>\n",
       "  </tbody>\n",
       "</table>\n",
       "<p>42321 rows × 4 columns</p>\n",
       "</div>"
      ],
      "text/plain": [
       "                                                  genres movieId  \\\n",
       "0      [{'id': 16, 'name': 'Animation'}, {'id': 35, '...     862   \n",
       "1      [{'id': 12, 'name': 'Adventure'}, {'id': 14, '...    8844   \n",
       "2      [{'id': 10749, 'name': 'Romance'}, {'id': 35, ...   15602   \n",
       "3      [{'id': 35, 'name': 'Comedy'}, {'id': 18, 'nam...   31357   \n",
       "4                         [{'id': 35, 'name': 'Comedy'}]   11862   \n",
       "...                                                  ...     ...   \n",
       "45459           [{'id': 878, 'name': 'Science Fiction'}]  222848   \n",
       "45460  [{'id': 18, 'name': 'Drama'}, {'id': 28, 'name...   30840   \n",
       "45461  [{'id': 18, 'name': 'Drama'}, {'id': 10751, 'n...  439050   \n",
       "45462                      [{'id': 18, 'name': 'Drama'}]  111109   \n",
       "45463  [{'id': 28, 'name': 'Action'}, {'id': 18, 'nam...   67758   \n",
       "\n",
       "                                                overview  \\\n",
       "0      Led by Woody, Andy's toys live happily in his ...   \n",
       "1      When siblings Judy and Peter discover an encha...   \n",
       "2      A family wedding reignites the ancient feud be...   \n",
       "3      Cheated on, mistreated and stepped on, the wom...   \n",
       "4      Just when George Banks has recovered from his ...   \n",
       "...                                                  ...   \n",
       "45459  It's the year 3000 AD. The world's most danger...   \n",
       "45460  Yet another version of the classic epic, with ...   \n",
       "45461        Rising and falling between a man and woman.   \n",
       "45462  An artist struggles to finish his work while a...   \n",
       "45463  When one of her hits goes wrong, a professiona...   \n",
       "\n",
       "                             title  \n",
       "0                        Toy Story  \n",
       "1                          Jumanji  \n",
       "2                 Grumpier Old Men  \n",
       "3                Waiting to Exhale  \n",
       "4      Father of the Bride Part II  \n",
       "...                            ...  \n",
       "45459              Caged Heat 3000  \n",
       "45460                   Robin Hood  \n",
       "45461                       Subdue  \n",
       "45462          Century of Birthing  \n",
       "45463                     Betrayal  \n",
       "\n",
       "[42321 rows x 4 columns]"
      ]
     },
     "execution_count": 20,
     "metadata": {},
     "output_type": "execute_result"
    }
   ],
   "source": [
    "#remove movies without specified genres\n",
    "movies.drop(movies[movies['genres'] == '[]'].index, inplace=True)\n",
    "movies"
   ]
  },
  {
   "cell_type": "code",
   "execution_count": 21,
   "metadata": {
    "colab": {
     "base_uri": "https://localhost:8080/",
     "height": 424
    },
    "id": "YKM8O_cUAX32",
    "outputId": "c8c6eb95-5ae4-47df-cc59-7b04bbd098a7"
   },
   "outputs": [
    {
     "data": {
      "text/html": [
       "<div>\n",
       "<style scoped>\n",
       "    .dataframe tbody tr th:only-of-type {\n",
       "        vertical-align: middle;\n",
       "    }\n",
       "\n",
       "    .dataframe tbody tr th {\n",
       "        vertical-align: top;\n",
       "    }\n",
       "\n",
       "    .dataframe thead th {\n",
       "        text-align: right;\n",
       "    }\n",
       "</style>\n",
       "<table border=\"1\" class=\"dataframe\">\n",
       "  <thead>\n",
       "    <tr style=\"text-align: right;\">\n",
       "      <th></th>\n",
       "      <th>genres</th>\n",
       "      <th>movieId</th>\n",
       "      <th>overview</th>\n",
       "      <th>title</th>\n",
       "    </tr>\n",
       "  </thead>\n",
       "  <tbody>\n",
       "    <tr>\n",
       "      <th>0</th>\n",
       "      <td>[Animation, Comedy, Family]</td>\n",
       "      <td>862</td>\n",
       "      <td>Led by Woody, Andy's toys live happily in his ...</td>\n",
       "      <td>Toy Story</td>\n",
       "    </tr>\n",
       "    <tr>\n",
       "      <th>1</th>\n",
       "      <td>[Adventure, Fantasy, Family]</td>\n",
       "      <td>8844</td>\n",
       "      <td>When siblings Judy and Peter discover an encha...</td>\n",
       "      <td>Jumanji</td>\n",
       "    </tr>\n",
       "    <tr>\n",
       "      <th>2</th>\n",
       "      <td>[Romance, Comedy]</td>\n",
       "      <td>15602</td>\n",
       "      <td>A family wedding reignites the ancient feud be...</td>\n",
       "      <td>Grumpier Old Men</td>\n",
       "    </tr>\n",
       "    <tr>\n",
       "      <th>3</th>\n",
       "      <td>[Comedy, Drama, Romance]</td>\n",
       "      <td>31357</td>\n",
       "      <td>Cheated on, mistreated and stepped on, the wom...</td>\n",
       "      <td>Waiting to Exhale</td>\n",
       "    </tr>\n",
       "    <tr>\n",
       "      <th>4</th>\n",
       "      <td>[Comedy]</td>\n",
       "      <td>11862</td>\n",
       "      <td>Just when George Banks has recovered from his ...</td>\n",
       "      <td>Father of the Bride Part II</td>\n",
       "    </tr>\n",
       "    <tr>\n",
       "      <th>...</th>\n",
       "      <td>...</td>\n",
       "      <td>...</td>\n",
       "      <td>...</td>\n",
       "      <td>...</td>\n",
       "    </tr>\n",
       "    <tr>\n",
       "      <th>45459</th>\n",
       "      <td>[Science Fiction]</td>\n",
       "      <td>222848</td>\n",
       "      <td>It's the year 3000 AD. The world's most danger...</td>\n",
       "      <td>Caged Heat 3000</td>\n",
       "    </tr>\n",
       "    <tr>\n",
       "      <th>45460</th>\n",
       "      <td>[Drama, Action, Romance]</td>\n",
       "      <td>30840</td>\n",
       "      <td>Yet another version of the classic epic, with ...</td>\n",
       "      <td>Robin Hood</td>\n",
       "    </tr>\n",
       "    <tr>\n",
       "      <th>45461</th>\n",
       "      <td>[Drama, Family]</td>\n",
       "      <td>439050</td>\n",
       "      <td>Rising and falling between a man and woman.</td>\n",
       "      <td>Subdue</td>\n",
       "    </tr>\n",
       "    <tr>\n",
       "      <th>45462</th>\n",
       "      <td>[Drama]</td>\n",
       "      <td>111109</td>\n",
       "      <td>An artist struggles to finish his work while a...</td>\n",
       "      <td>Century of Birthing</td>\n",
       "    </tr>\n",
       "    <tr>\n",
       "      <th>45463</th>\n",
       "      <td>[Action, Drama, Thriller]</td>\n",
       "      <td>67758</td>\n",
       "      <td>When one of her hits goes wrong, a professiona...</td>\n",
       "      <td>Betrayal</td>\n",
       "    </tr>\n",
       "  </tbody>\n",
       "</table>\n",
       "<p>42321 rows × 4 columns</p>\n",
       "</div>"
      ],
      "text/plain": [
       "                             genres movieId  \\\n",
       "0       [Animation, Comedy, Family]     862   \n",
       "1      [Adventure, Fantasy, Family]    8844   \n",
       "2                 [Romance, Comedy]   15602   \n",
       "3          [Comedy, Drama, Romance]   31357   \n",
       "4                          [Comedy]   11862   \n",
       "...                             ...     ...   \n",
       "45459             [Science Fiction]  222848   \n",
       "45460      [Drama, Action, Romance]   30840   \n",
       "45461               [Drama, Family]  439050   \n",
       "45462                       [Drama]  111109   \n",
       "45463     [Action, Drama, Thriller]   67758   \n",
       "\n",
       "                                                overview  \\\n",
       "0      Led by Woody, Andy's toys live happily in his ...   \n",
       "1      When siblings Judy and Peter discover an encha...   \n",
       "2      A family wedding reignites the ancient feud be...   \n",
       "3      Cheated on, mistreated and stepped on, the wom...   \n",
       "4      Just when George Banks has recovered from his ...   \n",
       "...                                                  ...   \n",
       "45459  It's the year 3000 AD. The world's most danger...   \n",
       "45460  Yet another version of the classic epic, with ...   \n",
       "45461        Rising and falling between a man and woman.   \n",
       "45462  An artist struggles to finish his work while a...   \n",
       "45463  When one of her hits goes wrong, a professiona...   \n",
       "\n",
       "                             title  \n",
       "0                        Toy Story  \n",
       "1                          Jumanji  \n",
       "2                 Grumpier Old Men  \n",
       "3                Waiting to Exhale  \n",
       "4      Father of the Bride Part II  \n",
       "...                            ...  \n",
       "45459              Caged Heat 3000  \n",
       "45460                   Robin Hood  \n",
       "45461                       Subdue  \n",
       "45462          Century of Birthing  \n",
       "45463                     Betrayal  \n",
       "\n",
       "[42321 rows x 4 columns]"
      ]
     },
     "execution_count": 21,
     "metadata": {},
     "output_type": "execute_result"
    }
   ],
   "source": [
    "#convert genres to a list without their ids\n",
    "genres = []\n",
    "for i in movies['genres']:\n",
    "    gList = str.split(i, sep='\\'name\\': \\'')\n",
    "    for j in range(1, len(gList)):\n",
    "        gList[j] = gList[j].split('\\'')[0]\n",
    "    gList.pop(0)\n",
    "    genres.append(gList)\n",
    "    \n",
    "movies['genres'] = genres\n",
    "movies"
   ]
  },
  {
   "cell_type": "code",
   "execution_count": 10,
   "metadata": {
    "colab": {
     "base_uri": "https://localhost:8080/",
     "height": 756
    },
    "id": "nFFxBGLfAX33",
    "outputId": "badd1995-316b-4684-c1ad-98c9cb5d01ce"
   },
   "outputs": [
    {
     "data": {
      "image/png": "[encoded data removed]",
      "text/plain": [
       "<Figure size 720x720 with 1 Axes>"
      ]
     },
     "metadata": {
      "needs_background": "light"
     },
     "output_type": "display_data"
    }
   ],
   "source": [
    "#barplot unique genres\n",
    "allGenres = sum(genres, [])\n",
    "allGenres = nltk.FreqDist(allGenres) \n",
    "\n",
    "genresDf = pd.DataFrame({'Genre': list(allGenres.keys()), \n",
    "                         'Movies': list(allGenres.values())})\n",
    "\n",
    "plt.figure(figsize=(10,10)) \n",
    "sns.barplot(data=genresDf, x=\"Movies\", y=\"Genre\", order=genresDf.sort_values('Movies', ascending=False).Genre) \n",
    "plt.show()"
   ]
  },
  {
   "cell_type": "markdown",
   "metadata": {
    "id": "b5J-8-W0AX33"
   },
   "source": [
    "It is clear from the plot that there are some genres that are represented in very little numbers and when inspected more closely, don't seem to resemble actual genre names but production company names. We will drop them from the dataset."
   ]
  },
  {
   "cell_type": "code",
   "execution_count": 22,
   "metadata": {
    "colab": {
     "base_uri": "https://localhost:8080/",
     "height": 424
    },
    "id": "edj1kcxMAX33",
    "outputId": "6377e252-41b9-4a35-99a0-e827f9cc77de"
   },
   "outputs": [
    {
     "data": {
      "text/html": [
       "<div>\n",
       "<style scoped>\n",
       "    .dataframe tbody tr th:only-of-type {\n",
       "        vertical-align: middle;\n",
       "    }\n",
       "\n",
       "    .dataframe tbody tr th {\n",
       "        vertical-align: top;\n",
       "    }\n",
       "\n",
       "    .dataframe thead th {\n",
       "        text-align: right;\n",
       "    }\n",
       "</style>\n",
       "<table border=\"1\" class=\"dataframe\">\n",
       "  <thead>\n",
       "    <tr style=\"text-align: right;\">\n",
       "      <th></th>\n",
       "      <th>genres</th>\n",
       "      <th>movieId</th>\n",
       "      <th>overview</th>\n",
       "      <th>title</th>\n",
       "    </tr>\n",
       "  </thead>\n",
       "  <tbody>\n",
       "    <tr>\n",
       "      <th>0</th>\n",
       "      <td>[Animation, Comedy, Family]</td>\n",
       "      <td>862</td>\n",
       "      <td>Led by Woody, Andy's toys live happily in his ...</td>\n",
       "      <td>Toy Story</td>\n",
       "    </tr>\n",
       "    <tr>\n",
       "      <th>1</th>\n",
       "      <td>[Adventure, Fantasy, Family]</td>\n",
       "      <td>8844</td>\n",
       "      <td>When siblings Judy and Peter discover an encha...</td>\n",
       "      <td>Jumanji</td>\n",
       "    </tr>\n",
       "    <tr>\n",
       "      <th>2</th>\n",
       "      <td>[Romance, Comedy]</td>\n",
       "      <td>15602</td>\n",
       "      <td>A family wedding reignites the ancient feud be...</td>\n",
       "      <td>Grumpier Old Men</td>\n",
       "    </tr>\n",
       "    <tr>\n",
       "      <th>3</th>\n",
       "      <td>[Comedy, Drama, Romance]</td>\n",
       "      <td>31357</td>\n",
       "      <td>Cheated on, mistreated and stepped on, the wom...</td>\n",
       "      <td>Waiting to Exhale</td>\n",
       "    </tr>\n",
       "    <tr>\n",
       "      <th>4</th>\n",
       "      <td>[Comedy]</td>\n",
       "      <td>11862</td>\n",
       "      <td>Just when George Banks has recovered from his ...</td>\n",
       "      <td>Father of the Bride Part II</td>\n",
       "    </tr>\n",
       "    <tr>\n",
       "      <th>...</th>\n",
       "      <td>...</td>\n",
       "      <td>...</td>\n",
       "      <td>...</td>\n",
       "      <td>...</td>\n",
       "    </tr>\n",
       "    <tr>\n",
       "      <th>45459</th>\n",
       "      <td>[Science Fiction]</td>\n",
       "      <td>222848</td>\n",
       "      <td>It's the year 3000 AD. The world's most danger...</td>\n",
       "      <td>Caged Heat 3000</td>\n",
       "    </tr>\n",
       "    <tr>\n",
       "      <th>45460</th>\n",
       "      <td>[Drama, Action, Romance]</td>\n",
       "      <td>30840</td>\n",
       "      <td>Yet another version of the classic epic, with ...</td>\n",
       "      <td>Robin Hood</td>\n",
       "    </tr>\n",
       "    <tr>\n",
       "      <th>45461</th>\n",
       "      <td>[Drama, Family]</td>\n",
       "      <td>439050</td>\n",
       "      <td>Rising and falling between a man and woman.</td>\n",
       "      <td>Subdue</td>\n",
       "    </tr>\n",
       "    <tr>\n",
       "      <th>45462</th>\n",
       "      <td>[Drama]</td>\n",
       "      <td>111109</td>\n",
       "      <td>An artist struggles to finish his work while a...</td>\n",
       "      <td>Century of Birthing</td>\n",
       "    </tr>\n",
       "    <tr>\n",
       "      <th>45463</th>\n",
       "      <td>[Action, Drama, Thriller]</td>\n",
       "      <td>67758</td>\n",
       "      <td>When one of her hits goes wrong, a professiona...</td>\n",
       "      <td>Betrayal</td>\n",
       "    </tr>\n",
       "  </tbody>\n",
       "</table>\n",
       "<p>42321 rows × 4 columns</p>\n",
       "</div>"
      ],
      "text/plain": [
       "                             genres movieId  \\\n",
       "0       [Animation, Comedy, Family]     862   \n",
       "1      [Adventure, Fantasy, Family]    8844   \n",
       "2                 [Romance, Comedy]   15602   \n",
       "3          [Comedy, Drama, Romance]   31357   \n",
       "4                          [Comedy]   11862   \n",
       "...                             ...     ...   \n",
       "45459             [Science Fiction]  222848   \n",
       "45460      [Drama, Action, Romance]   30840   \n",
       "45461               [Drama, Family]  439050   \n",
       "45462                       [Drama]  111109   \n",
       "45463     [Action, Drama, Thriller]   67758   \n",
       "\n",
       "                                                overview  \\\n",
       "0      Led by Woody, Andy's toys live happily in his ...   \n",
       "1      When siblings Judy and Peter discover an encha...   \n",
       "2      A family wedding reignites the ancient feud be...   \n",
       "3      Cheated on, mistreated and stepped on, the wom...   \n",
       "4      Just when George Banks has recovered from his ...   \n",
       "...                                                  ...   \n",
       "45459  It's the year 3000 AD. The world's most danger...   \n",
       "45460  Yet another version of the classic epic, with ...   \n",
       "45461        Rising and falling between a man and woman.   \n",
       "45462  An artist struggles to finish his work while a...   \n",
       "45463  When one of her hits goes wrong, a professiona...   \n",
       "\n",
       "                             title  \n",
       "0                        Toy Story  \n",
       "1                          Jumanji  \n",
       "2                 Grumpier Old Men  \n",
       "3                Waiting to Exhale  \n",
       "4      Father of the Bride Part II  \n",
       "...                            ...  \n",
       "45459              Caged Heat 3000  \n",
       "45460                   Robin Hood  \n",
       "45461                       Subdue  \n",
       "45462          Century of Birthing  \n",
       "45463                     Betrayal  \n",
       "\n",
       "[42321 rows x 4 columns]"
      ]
     },
     "execution_count": 22,
     "metadata": {},
     "output_type": "execute_result"
    }
   ],
   "source": [
    "nonGenres = ['Carousel Productions', 'Vision View Entertainment', 'Telescene Film Group Productions', \n",
    "            'Aniplex', 'GoHands', 'BROSTA TV', 'Mardock Scramble Production Committee', 'Sentai Filmworks',\n",
    "            'Odyssey Media', 'Pulser Productions', 'Rogue State', 'The Cartel']\n",
    "movieIds = [] \n",
    "for index, row in movies.iterrows():\n",
    "    for g in row['genres']:\n",
    "        if g in nonGenres:\n",
    "            movieIds.append(row['movieId'])\n",
    "for mId in movieIds:\n",
    "    movies.drop(movies[movies['movieId'] == mId].index, inplace=True)\n",
    "\n",
    "movies"
   ]
  },
  {
   "cell_type": "markdown",
   "metadata": {
    "id": "o-K6gh3tAX33"
   },
   "source": [
    "After a closer look, we realized these rows were loaded in a wrong way. Since the data loss is not big and we couldn't find a cause of this wrong load, we decided to remove them as they would created noise."
   ]
  },
  {
   "cell_type": "code",
   "execution_count": 12,
   "metadata": {
    "colab": {
     "base_uri": "https://localhost:8080/",
     "height": 850
    },
    "id": "5gx9faZUAX33",
    "outputId": "b31329be-061f-4510-ab0a-3c9e1c7bede2"
   },
   "outputs": [
    {
     "data": {
      "image/png": "[encoded data removed]",
      "text/plain": [
       "<Figure size 720x720 with 1 Axes>"
      ]
     },
     "metadata": {
      "needs_background": "light"
     },
     "output_type": "display_data"
    }
   ],
   "source": [
    "#barplot unique genres again\n",
    "genres = []\n",
    "for r in movies['genres']:\n",
    "    genres.append(r)\n",
    "    \n",
    "allGenres = sum(genres, [])\n",
    "allGenres = nltk.FreqDist(allGenres) \n",
    "\n",
    "genresDf = pd.DataFrame({'Genre': list(allGenres.keys()), \n",
    "                         'Movies': list(allGenres.values())})\n",
    "\n",
    "plt.figure(figsize=(10,10)) \n",
    "sns.barplot(data=genresDf, x=\"Movies\", y=\"Genre\", order=genresDf.sort_values('Movies', ascending=False).Genre) \n",
    "plt.show()"
   ]
  },
  {
   "cell_type": "markdown",
   "metadata": {
    "id": "7QIamFhxF__Y"
   },
   "source": [
    "The code bellow cleans the text in the movies['overview'] column by removing unnecessary characters and converting the text to lowercase which can be useful for natural language processing (NLP) tasks such as text classification or sentiment analysis."
   ]
  },
  {
   "cell_type": "code",
   "execution_count": 23,
   "metadata": {
    "colab": {
     "base_uri": "https://localhost:8080/",
     "height": 206
    },
    "id": "HBsIkEmsFrFj",
    "outputId": "b3617c09-430e-4200-e797-c4fabb02e7f0"
   },
   "outputs": [
    {
     "data": {
      "text/html": [
       "<div>\n",
       "<style scoped>\n",
       "    .dataframe tbody tr th:only-of-type {\n",
       "        vertical-align: middle;\n",
       "    }\n",
       "\n",
       "    .dataframe tbody tr th {\n",
       "        vertical-align: top;\n",
       "    }\n",
       "\n",
       "    .dataframe thead th {\n",
       "        text-align: right;\n",
       "    }\n",
       "</style>\n",
       "<table border=\"1\" class=\"dataframe\">\n",
       "  <thead>\n",
       "    <tr style=\"text-align: right;\">\n",
       "      <th></th>\n",
       "      <th>genres</th>\n",
       "      <th>movieId</th>\n",
       "      <th>overview</th>\n",
       "      <th>title</th>\n",
       "    </tr>\n",
       "  </thead>\n",
       "  <tbody>\n",
       "    <tr>\n",
       "      <th>0</th>\n",
       "      <td>[Animation, Comedy, Family]</td>\n",
       "      <td>862</td>\n",
       "      <td>led by woody andys toys live happily in his ro...</td>\n",
       "      <td>Toy Story</td>\n",
       "    </tr>\n",
       "    <tr>\n",
       "      <th>1</th>\n",
       "      <td>[Adventure, Fantasy, Family]</td>\n",
       "      <td>8844</td>\n",
       "      <td>when siblings judy and peter discover an encha...</td>\n",
       "      <td>Jumanji</td>\n",
       "    </tr>\n",
       "    <tr>\n",
       "      <th>2</th>\n",
       "      <td>[Romance, Comedy]</td>\n",
       "      <td>15602</td>\n",
       "      <td>a family wedding reignites the ancient feud be...</td>\n",
       "      <td>Grumpier Old Men</td>\n",
       "    </tr>\n",
       "    <tr>\n",
       "      <th>3</th>\n",
       "      <td>[Comedy, Drama, Romance]</td>\n",
       "      <td>31357</td>\n",
       "      <td>cheated on mistreated and stepped on the women...</td>\n",
       "      <td>Waiting to Exhale</td>\n",
       "    </tr>\n",
       "    <tr>\n",
       "      <th>4</th>\n",
       "      <td>[Comedy]</td>\n",
       "      <td>11862</td>\n",
       "      <td>just when george banks has recovered from his ...</td>\n",
       "      <td>Father of the Bride Part II</td>\n",
       "    </tr>\n",
       "  </tbody>\n",
       "</table>\n",
       "</div>"
      ],
      "text/plain": [
       "                         genres movieId  \\\n",
       "0   [Animation, Comedy, Family]     862   \n",
       "1  [Adventure, Fantasy, Family]    8844   \n",
       "2             [Romance, Comedy]   15602   \n",
       "3      [Comedy, Drama, Romance]   31357   \n",
       "4                      [Comedy]   11862   \n",
       "\n",
       "                                            overview  \\\n",
       "0  led by woody andys toys live happily in his ro...   \n",
       "1  when siblings judy and peter discover an encha...   \n",
       "2  a family wedding reignites the ancient feud be...   \n",
       "3  cheated on mistreated and stepped on the women...   \n",
       "4  just when george banks has recovered from his ...   \n",
       "\n",
       "                         title  \n",
       "0                    Toy Story  \n",
       "1                      Jumanji  \n",
       "2             Grumpier Old Men  \n",
       "3            Waiting to Exhale  \n",
       "4  Father of the Bride Part II  "
      ]
     },
     "execution_count": 23,
     "metadata": {},
     "output_type": "execute_result"
    }
   ],
   "source": [
    "#Clean data\n",
    "def cleanPlot(plot):\n",
    "    ps = PorterStemmer()\n",
    "    sw = set(stopwords.words('english'))\n",
    "    plot = re.sub(\"\\'\", \"\", plot) \n",
    "    plot = re.sub(\"[^a-zA-Z]\",\" \", plot)\n",
    "    plot = ' '.join(plot.split()) \n",
    "    plot = plot.lower() \n",
    "    return plot\n",
    "\n",
    "movies['overview'] = movies['overview'].apply(lambda x: cleanPlot(x))\n",
    "movies.head()"
   ]
  },
  {
   "cell_type": "code",
   "execution_count": 24,
   "metadata": {
    "colab": {
     "base_uri": "https://localhost:8080/",
     "height": 850
    },
    "id": "wYB0Sk7UGhcv",
    "outputId": "751a312a-b102-4b07-abe0-9ed3e5da11f4",
    "scrolled": false
   },
   "outputs": [
    {
     "data": {
      "image/png": "[encoded data removed]",
      "text/plain": [
       "<Figure size 720x720 with 1 Axes>"
      ]
     },
     "metadata": {
      "needs_background": "light"
     },
     "output_type": "display_data"
    }
   ],
   "source": [
    "#visualise most frequent words\n",
    "def freqWords(x, maxWords): \n",
    "  allWords = ' '.join([text for text in x]) \n",
    "  allWords = allWords.split() \n",
    "  fdist = nltk.FreqDist(allWords) \n",
    "  wordsDf = pd.DataFrame({'word':list(fdist.keys()), 'count':list(fdist.values())}) \n",
    "  \n",
    "  d = wordsDf.nlargest(columns=\"count\", n = maxWords) \n",
    "\n",
    "  plt.figure(figsize=(10,10)) \n",
    "  sns.barplot(data=d, x= \"count\", y = \"word\") \n",
    "  plt.show()\n",
    "  \n",
    "freqWords(movies['overview'], 50)"
   ]
  },
  {
   "cell_type": "code",
   "execution_count": 25,
   "metadata": {
    "scrolled": false
   },
   "outputs": [
    {
     "data": {
      "image/png": "[encoded data removed]",
      "text/plain": [
       "<Figure size 720x720 with 1 Axes>"
      ]
     },
     "metadata": {
      "needs_background": "light"
     },
     "output_type": "display_data"
    }
   ],
   "source": [
    "#Remove stopwords, apply stemming and visualise\n",
    "stopWords = set(stopwords.words('english'))\n",
    "ps = PorterStemmer()\n",
    "\n",
    "def removeStopwordsAndStem(plot):\n",
    "    stemmedNoStopwordPlot = [ps.stem(w) for w in plot.split() if not w in stopWords]\n",
    "    return ' '.join(stemmedNoStopwordPlot)\n",
    "\n",
    "movies['overview'] = movies['overview'].apply(lambda x: removeStopwordsAndStem(x))\n",
    "freqWords(movies['overview'], 50)"
   ]
  },
  {
   "cell_type": "code",
   "execution_count": 18,
   "metadata": {},
   "outputs": [
    {
     "data": {
      "image/png": "[encoded data removed]",
      "text/plain": [
       "<Figure size 432x288 with 1 Axes>"
      ]
     },
     "metadata": {
      "needs_background": "light"
     },
     "output_type": "display_data"
    }
   ],
   "source": [
    "#word cloud visualization\n",
    "corpus = []\n",
    "for overview in movies['overview']:\n",
    "    corpus.append(overview)\n",
    "\n",
    "wordcloud = WordCloud().generate(\" \".join(corpus))\n",
    "\n",
    "plt.figure()\n",
    "plt.imshow(wordcloud)\n",
    "plt.axis('off')\n",
    "plt.show()"
   ]
  },
  {
   "cell_type": "markdown",
   "metadata": {
    "id": "_99tLEVdOgzq"
   },
   "source": [
    "**Del za genre prediction** "
   ]
  },
  {
   "cell_type": "code",
   "execution_count": 26,
   "metadata": {
    "colab": {
     "base_uri": "https://localhost:8080/"
    },
    "id": "UAfq9ml7MPza",
    "outputId": "8b332c52-cd1a-4ec0-e8e3-e83cd9c1aa1b"
   },
   "outputs": [
    {
     "data": {
      "text/plain": [
       "array([[0, 0, 1, ..., 0, 0, 0],\n",
       "       [0, 1, 0, ..., 0, 0, 0],\n",
       "       [0, 0, 0, ..., 0, 0, 0],\n",
       "       ...,\n",
       "       [0, 0, 0, ..., 0, 0, 0],\n",
       "       [0, 0, 0, ..., 0, 0, 0],\n",
       "       [1, 0, 0, ..., 1, 0, 0]])"
      ]
     },
     "execution_count": 26,
     "metadata": {},
     "output_type": "execute_result"
    }
   ],
   "source": [
    "#Convert each genre to separate binary class\n",
    "multilabelBinarizer = MultiLabelBinarizer()\n",
    "multilabelBinarizer.fit(movies['genres'])\n",
    "\n",
    "#output class\n",
    "y = multilabelBinarizer.transform(movies['genres'])\n",
    "y\n"
   ]
  },
  {
   "cell_type": "code",
   "execution_count": 27,
   "metadata": {
    "id": "GPjfW0TRMZ4-"
   },
   "outputs": [],
   "source": [
    "#Extract top 10000 most frequent words from plots\n",
    "tfidfVectorizer = TfidfVectorizer(max_features=10000)\n",
    "\n",
    "xTrain, xTest, yTrain, yTest = train_test_split(movies['overview'], y, test_size=0.2, random_state=9)\n",
    "\n",
    "xTrainTfidf = tfidfVectorizer.fit_transform(xTrain)\n",
    "xTestTfidf = tfidfVectorizer.transform(xTest)"
   ]
  },
  {
   "cell_type": "code",
   "execution_count": 28,
   "metadata": {
    "colab": {
     "base_uri": "https://localhost:8080/"
    },
    "id": "-H7w9f7LMgbN",
    "outputId": "b63eb337-3d58-42cc-a0d0-4c034ecd97a3"
   },
   "outputs": [
    {
     "name": "stdout",
     "output_type": "stream",
     "text": [
      "[0 0 0 0 0 0 0 0 0 0 0 1 0 0 0 1 0 1 0 0]\n",
      "('Horror', 'Science Fiction', 'Thriller')\n",
      "F1 Score:  0.4421508351549025\n"
     ]
    }
   ],
   "source": [
    "#Train and test the model\n",
    "lr = LogisticRegression(max_iter=10000)\n",
    "clf = OneVsRestClassifier(lr)\n",
    "\n",
    "clf.fit(xTrainTfidf, yTrain)\n",
    "yPred = clf.predict(xTestTfidf)\n",
    "\n",
    "print(yPred[2])\n",
    "\n",
    "print(multilabelBinarizer.inverse_transform(yPred)[2])\n",
    "\n",
    "print('F1 Score: ', f1_score(yTest, yPred, average='samples'))"
   ]
  },
  {
   "cell_type": "code",
   "execution_count": 29,
   "metadata": {
    "colab": {
     "base_uri": "https://localhost:8080/"
    },
    "id": "baXHwMx-MtEU",
    "outputId": "8882b63a-7f15-4e6c-9948-de2a18be845e"
   },
   "outputs": [
    {
     "name": "stdout",
     "output_type": "stream",
     "text": [
      "[[0 0 0 0 0 0 0 0 0 0 0 0 0 0 0 0 0 1 0 0]]\n",
      "[('Thriller',)]\n"
     ]
    }
   ],
   "source": [
    "#Custom tests\n",
    "\n",
    "#Die Hard (Aventure, Crime, Thriller)\n",
    "plotList = [cleanPlot(\"A New York City police officer tries to save his estranged wife and several others taken hostage by terrorists during a Christmas party at the Nakatomi Plaza in Los Angeles.\")]\n",
    "plotListTfidf = tfidfVectorizer.transform(plotList)\n",
    "pred = clf.predict(plotListTfidf)\n",
    "print(pred)\n",
    "print(multilabelBinarizer.inverse_transform(pred))"
   ]
  },
  {
   "cell_type": "code",
   "execution_count": null,
   "metadata": {
    "id": "ke8-6ivOyvKE"
   },
   "outputs": [],
   "source": [
    "# # Merge the two dataframes based on the ID column\n",
    "# ratings['movieId'] = ratings['movieId'].astype(str)\n",
    "# merged = pd.merge(movies, ratings, on='movieId', how='inner')\n"
   ]
  },
  {
   "cell_type": "markdown",
   "metadata": {},
   "source": [
    "## Collaborative Filtering Movie Recommender System"
   ]
  },
  {
   "cell_type": "markdown",
   "metadata": {},
   "source": [
    "To help with the common recommender system problem known as cold-start that is caused by lack of starting information, we will work with users that have at least 20 ratings."
   ]
  },
  {
   "cell_type": "code",
   "execution_count": 30,
   "metadata": {},
   "outputs": [
    {
     "name": "stdout",
     "output_type": "stream",
     "text": [
      "Number of users: 39615\n",
      "Number of users with at least 20 ratings:  29211\n"
     ]
    }
   ],
   "source": [
    "user_ratings_count = ratings_small.groupby(['userId', 'movieId']).size().groupby('userId').size()\n",
    "print('Number of users: %d' % len(user_ratings_count))\n",
    "users_with_20_ratings = user_ratings_count[user_ratings_count >= 20].reset_index()[['userId']]\n",
    "print('Number of users with at least 20 ratings: ', len(users_with_20_ratings))"
   ]
  },
  {
   "cell_type": "code",
   "execution_count": 31,
   "metadata": {},
   "outputs": [],
   "source": [
    "#drop duplicates\n",
    "ratings_small = ratings_small.drop_duplicates()"
   ]
  },
  {
   "cell_type": "markdown",
   "metadata": {},
   "source": [
    "We will be dropping the column timestamp."
   ]
  },
  {
   "cell_type": "code",
   "execution_count": 32,
   "metadata": {},
   "outputs": [],
   "source": [
    "ratings_small = ratings_small.drop(['timestamp'], axis=1)"
   ]
  },
  {
   "cell_type": "markdown",
   "metadata": {},
   "source": [
    "................Now, we will merge the movies and ratings dataset (we will only take the movie title from the movies dataset)."
   ]
  },
  {
   "cell_type": "code",
   "execution_count": null,
   "metadata": {},
   "outputs": [],
   "source": [
    "movies_titles = movies.drop(['overview', 'genres'], axis=1)\n",
    "ratings['movieId'] = ratings['movieId'].astype(str)\n",
    "merged = pd.merge(movies_titles, ratings, on='movieId', how='inner')\n",
    "merged"
   ]
  },
  {
   "cell_type": "markdown",
   "metadata": {},
   "source": [
    "### Splitting data to test and train sets\n",
    "\n",
    "To ensure generalization of previously unseen data, cross-validation will be used. Data is split into two data sets - one for training (70%) and one for testing (30%). In our case of recommending movies to users, to make sure the evaluation is statisically sound, the same set of users for both model building and testing should be used (to avoid any cold-ness of users), and a stratified splitting strategy should be taken, as oppose in other cases where a chronological split would be a better fit.\n",
    "We also set a minimum of 20 ratings per user so the number of rows in the dataset is likely to change. "
   ]
  },
  {
   "cell_type": "code",
   "execution_count": 33,
   "metadata": {},
   "outputs": [],
   "source": [
    "#splitting the data\n",
    "ratings_train, ratings_test = python_stratified_split(\n",
    "    ratings_small, filter_by=\"user\", min_rating=20, ratio=0.7,\n",
    "    col_user='userId', col_item='movieId'\n",
    ")"
   ]
  },
  {
   "cell_type": "code",
   "execution_count": 36,
   "metadata": {},
   "outputs": [
    {
     "name": "stdout",
     "output_type": "stream",
     "text": [
      "Number of rows after splitting the data and applying the filter: 1853538\n",
      "Number of original rows: 2000000\n"
     ]
    }
   ],
   "source": [
    "#number of rows remains the same\n",
    "rows_new = ratings_train.shape[0] + ratings_test.shape[0]\n",
    "print('Number of rows after splitting the data and applying the filter: ' + str(rows_new))\n",
    "print('Number of original rows: ' + str(ratings_small.shape[0]))"
   ]
  },
  {
   "cell_type": "code",
   "execution_count": 37,
   "metadata": {},
   "outputs": [
    {
     "name": "stdout",
     "output_type": "stream",
     "text": [
      "Number of rows after removing cold users from test set: 1853538\n",
      "Number of original rows: 2000000\n"
     ]
    }
   ],
   "source": [
    "#remove \"cold\" users from test set  \n",
    "ratings_test = ratings_test[ratings_test.userId.isin(ratings_train.userId)]\n",
    "print('Number of rows after removing cold users from test set: ' + str(rows_new))\n",
    "print('Number of original rows: ' + str(ratings_small.shape[0]))"
   ]
  },
  {
   "cell_type": "markdown",
   "metadata": {},
   "source": [
    "### Matrix factorization\n",
    "\n",
    "Recommender systems use utility matrixes to store user-item data. These matrixes are characterized by their sparsity whihch poses as one of the biggest challenges in recommender systems. To handle this challenge we will be doing matrix factorization by applying Singular Value Decomposition (SVD). SVD decomposes the matrix M ($m \\times n$) in the following form: $ SVD (M) = U \\times S \\times V^{T} $"
   ]
  },
  {
   "cell_type": "code",
   "execution_count": 40,
   "metadata": {},
   "outputs": [
    {
     "data": {
      "text/html": [
       "<div>\n",
       "<style scoped>\n",
       "    .dataframe tbody tr th:only-of-type {\n",
       "        vertical-align: middle;\n",
       "    }\n",
       "\n",
       "    .dataframe tbody tr th {\n",
       "        vertical-align: top;\n",
       "    }\n",
       "\n",
       "    .dataframe thead th {\n",
       "        text-align: right;\n",
       "    }\n",
       "</style>\n",
       "<table border=\"1\" class=\"dataframe\">\n",
       "  <thead>\n",
       "    <tr style=\"text-align: right;\">\n",
       "      <th>movieId</th>\n",
       "      <th>1</th>\n",
       "      <th>2</th>\n",
       "      <th>3</th>\n",
       "      <th>4</th>\n",
       "      <th>5</th>\n",
       "      <th>6</th>\n",
       "      <th>7</th>\n",
       "      <th>8</th>\n",
       "      <th>9</th>\n",
       "      <th>10</th>\n",
       "      <th>...</th>\n",
       "      <th>3265</th>\n",
       "      <th>3266</th>\n",
       "      <th>4006</th>\n",
       "      <th>4424</th>\n",
       "      <th>4970</th>\n",
       "      <th>5060</th>\n",
       "      <th>6531</th>\n",
       "      <th>6677</th>\n",
       "      <th>6918</th>\n",
       "      <th>8739</th>\n",
       "    </tr>\n",
       "    <tr>\n",
       "      <th>userId</th>\n",
       "      <th></th>\n",
       "      <th></th>\n",
       "      <th></th>\n",
       "      <th></th>\n",
       "      <th></th>\n",
       "      <th></th>\n",
       "      <th></th>\n",
       "      <th></th>\n",
       "      <th></th>\n",
       "      <th></th>\n",
       "      <th></th>\n",
       "      <th></th>\n",
       "      <th></th>\n",
       "      <th></th>\n",
       "      <th></th>\n",
       "      <th></th>\n",
       "      <th></th>\n",
       "      <th></th>\n",
       "      <th></th>\n",
       "      <th></th>\n",
       "      <th></th>\n",
       "    </tr>\n",
       "  </thead>\n",
       "  <tbody>\n",
       "    <tr>\n",
       "      <th>25</th>\n",
       "      <td>0.0</td>\n",
       "      <td>3.0</td>\n",
       "      <td>0.0</td>\n",
       "      <td>0.0</td>\n",
       "      <td>0.0</td>\n",
       "      <td>0.0</td>\n",
       "      <td>0.0</td>\n",
       "      <td>0.0</td>\n",
       "      <td>0.0</td>\n",
       "      <td>3.0</td>\n",
       "      <td>...</td>\n",
       "      <td>0.0</td>\n",
       "      <td>0.0</td>\n",
       "      <td>0.0</td>\n",
       "      <td>0.0</td>\n",
       "      <td>0.0</td>\n",
       "      <td>0.0</td>\n",
       "      <td>0.0</td>\n",
       "      <td>0.0</td>\n",
       "      <td>0.0</td>\n",
       "      <td>0.0</td>\n",
       "    </tr>\n",
       "    <tr>\n",
       "      <th>33</th>\n",
       "      <td>0.0</td>\n",
       "      <td>0.0</td>\n",
       "      <td>0.0</td>\n",
       "      <td>0.0</td>\n",
       "      <td>0.0</td>\n",
       "      <td>0.0</td>\n",
       "      <td>0.0</td>\n",
       "      <td>0.0</td>\n",
       "      <td>0.0</td>\n",
       "      <td>0.0</td>\n",
       "      <td>...</td>\n",
       "      <td>0.0</td>\n",
       "      <td>0.0</td>\n",
       "      <td>0.0</td>\n",
       "      <td>0.0</td>\n",
       "      <td>0.0</td>\n",
       "      <td>0.0</td>\n",
       "      <td>0.0</td>\n",
       "      <td>0.0</td>\n",
       "      <td>0.0</td>\n",
       "      <td>0.0</td>\n",
       "    </tr>\n",
       "    <tr>\n",
       "      <th>58</th>\n",
       "      <td>0.0</td>\n",
       "      <td>0.0</td>\n",
       "      <td>0.0</td>\n",
       "      <td>0.0</td>\n",
       "      <td>0.0</td>\n",
       "      <td>4.0</td>\n",
       "      <td>0.0</td>\n",
       "      <td>0.0</td>\n",
       "      <td>0.0</td>\n",
       "      <td>4.0</td>\n",
       "      <td>...</td>\n",
       "      <td>0.0</td>\n",
       "      <td>0.0</td>\n",
       "      <td>0.0</td>\n",
       "      <td>0.0</td>\n",
       "      <td>0.0</td>\n",
       "      <td>0.0</td>\n",
       "      <td>0.0</td>\n",
       "      <td>0.0</td>\n",
       "      <td>0.0</td>\n",
       "      <td>0.0</td>\n",
       "    </tr>\n",
       "    <tr>\n",
       "      <th>80</th>\n",
       "      <td>0.0</td>\n",
       "      <td>0.0</td>\n",
       "      <td>0.0</td>\n",
       "      <td>0.0</td>\n",
       "      <td>0.0</td>\n",
       "      <td>0.0</td>\n",
       "      <td>0.0</td>\n",
       "      <td>0.0</td>\n",
       "      <td>0.0</td>\n",
       "      <td>5.0</td>\n",
       "      <td>...</td>\n",
       "      <td>0.0</td>\n",
       "      <td>0.0</td>\n",
       "      <td>0.0</td>\n",
       "      <td>0.0</td>\n",
       "      <td>0.0</td>\n",
       "      <td>0.0</td>\n",
       "      <td>0.0</td>\n",
       "      <td>0.0</td>\n",
       "      <td>0.0</td>\n",
       "      <td>0.0</td>\n",
       "    </tr>\n",
       "    <tr>\n",
       "      <th>91</th>\n",
       "      <td>0.0</td>\n",
       "      <td>0.0</td>\n",
       "      <td>0.0</td>\n",
       "      <td>0.0</td>\n",
       "      <td>3.0</td>\n",
       "      <td>5.0</td>\n",
       "      <td>0.0</td>\n",
       "      <td>0.0</td>\n",
       "      <td>0.0</td>\n",
       "      <td>0.0</td>\n",
       "      <td>...</td>\n",
       "      <td>0.0</td>\n",
       "      <td>0.0</td>\n",
       "      <td>0.0</td>\n",
       "      <td>0.0</td>\n",
       "      <td>0.0</td>\n",
       "      <td>0.0</td>\n",
       "      <td>0.0</td>\n",
       "      <td>0.0</td>\n",
       "      <td>0.0</td>\n",
       "      <td>0.0</td>\n",
       "    </tr>\n",
       "    <tr>\n",
       "      <th>...</th>\n",
       "      <td>...</td>\n",
       "      <td>...</td>\n",
       "      <td>...</td>\n",
       "      <td>...</td>\n",
       "      <td>...</td>\n",
       "      <td>...</td>\n",
       "      <td>...</td>\n",
       "      <td>...</td>\n",
       "      <td>...</td>\n",
       "      <td>...</td>\n",
       "      <td>...</td>\n",
       "      <td>...</td>\n",
       "      <td>...</td>\n",
       "      <td>...</td>\n",
       "      <td>...</td>\n",
       "      <td>...</td>\n",
       "      <td>...</td>\n",
       "      <td>...</td>\n",
       "      <td>...</td>\n",
       "      <td>...</td>\n",
       "      <td>...</td>\n",
       "    </tr>\n",
       "    <tr>\n",
       "      <th>270860</th>\n",
       "      <td>0.0</td>\n",
       "      <td>3.0</td>\n",
       "      <td>0.0</td>\n",
       "      <td>0.0</td>\n",
       "      <td>0.0</td>\n",
       "      <td>0.0</td>\n",
       "      <td>0.0</td>\n",
       "      <td>0.0</td>\n",
       "      <td>0.0</td>\n",
       "      <td>0.0</td>\n",
       "      <td>...</td>\n",
       "      <td>0.0</td>\n",
       "      <td>0.0</td>\n",
       "      <td>0.0</td>\n",
       "      <td>0.0</td>\n",
       "      <td>0.0</td>\n",
       "      <td>0.0</td>\n",
       "      <td>0.0</td>\n",
       "      <td>0.0</td>\n",
       "      <td>0.0</td>\n",
       "      <td>0.0</td>\n",
       "    </tr>\n",
       "    <tr>\n",
       "      <th>270877</th>\n",
       "      <td>0.0</td>\n",
       "      <td>5.0</td>\n",
       "      <td>0.0</td>\n",
       "      <td>0.0</td>\n",
       "      <td>0.0</td>\n",
       "      <td>0.0</td>\n",
       "      <td>0.0</td>\n",
       "      <td>0.0</td>\n",
       "      <td>0.0</td>\n",
       "      <td>5.0</td>\n",
       "      <td>...</td>\n",
       "      <td>0.0</td>\n",
       "      <td>0.0</td>\n",
       "      <td>0.0</td>\n",
       "      <td>0.0</td>\n",
       "      <td>0.0</td>\n",
       "      <td>0.0</td>\n",
       "      <td>0.0</td>\n",
       "      <td>0.0</td>\n",
       "      <td>0.0</td>\n",
       "      <td>0.0</td>\n",
       "    </tr>\n",
       "    <tr>\n",
       "      <th>270883</th>\n",
       "      <td>0.0</td>\n",
       "      <td>0.0</td>\n",
       "      <td>0.0</td>\n",
       "      <td>0.0</td>\n",
       "      <td>0.0</td>\n",
       "      <td>0.0</td>\n",
       "      <td>0.0</td>\n",
       "      <td>0.0</td>\n",
       "      <td>0.0</td>\n",
       "      <td>0.0</td>\n",
       "      <td>...</td>\n",
       "      <td>0.0</td>\n",
       "      <td>0.0</td>\n",
       "      <td>0.0</td>\n",
       "      <td>0.0</td>\n",
       "      <td>0.0</td>\n",
       "      <td>0.0</td>\n",
       "      <td>0.0</td>\n",
       "      <td>0.0</td>\n",
       "      <td>0.0</td>\n",
       "      <td>0.0</td>\n",
       "    </tr>\n",
       "    <tr>\n",
       "      <th>270891</th>\n",
       "      <td>0.0</td>\n",
       "      <td>0.0</td>\n",
       "      <td>3.0</td>\n",
       "      <td>0.0</td>\n",
       "      <td>0.0</td>\n",
       "      <td>0.0</td>\n",
       "      <td>0.0</td>\n",
       "      <td>0.0</td>\n",
       "      <td>3.0</td>\n",
       "      <td>0.0</td>\n",
       "      <td>...</td>\n",
       "      <td>0.0</td>\n",
       "      <td>0.0</td>\n",
       "      <td>0.0</td>\n",
       "      <td>0.0</td>\n",
       "      <td>0.0</td>\n",
       "      <td>0.0</td>\n",
       "      <td>0.0</td>\n",
       "      <td>0.0</td>\n",
       "      <td>0.0</td>\n",
       "      <td>0.0</td>\n",
       "    </tr>\n",
       "    <tr>\n",
       "      <th>270895</th>\n",
       "      <td>0.0</td>\n",
       "      <td>0.0</td>\n",
       "      <td>0.0</td>\n",
       "      <td>0.0</td>\n",
       "      <td>0.0</td>\n",
       "      <td>0.0</td>\n",
       "      <td>0.0</td>\n",
       "      <td>0.0</td>\n",
       "      <td>0.0</td>\n",
       "      <td>0.0</td>\n",
       "      <td>...</td>\n",
       "      <td>0.0</td>\n",
       "      <td>0.0</td>\n",
       "      <td>0.0</td>\n",
       "      <td>0.0</td>\n",
       "      <td>0.0</td>\n",
       "      <td>0.0</td>\n",
       "      <td>0.0</td>\n",
       "      <td>0.0</td>\n",
       "      <td>0.0</td>\n",
       "      <td>0.0</td>\n",
       "    </tr>\n",
       "  </tbody>\n",
       "</table>\n",
       "<p>29211 rows × 1453 columns</p>\n",
       "</div>"
      ],
      "text/plain": [
       "movieId  1     2     3     4     5     6     7     8     9     10    ...  \\\n",
       "userId                                                               ...   \n",
       "25        0.0   3.0   0.0   0.0   0.0   0.0   0.0   0.0   0.0   3.0  ...   \n",
       "33        0.0   0.0   0.0   0.0   0.0   0.0   0.0   0.0   0.0   0.0  ...   \n",
       "58        0.0   0.0   0.0   0.0   0.0   4.0   0.0   0.0   0.0   4.0  ...   \n",
       "80        0.0   0.0   0.0   0.0   0.0   0.0   0.0   0.0   0.0   5.0  ...   \n",
       "91        0.0   0.0   0.0   0.0   3.0   5.0   0.0   0.0   0.0   0.0  ...   \n",
       "...       ...   ...   ...   ...   ...   ...   ...   ...   ...   ...  ...   \n",
       "270860    0.0   3.0   0.0   0.0   0.0   0.0   0.0   0.0   0.0   0.0  ...   \n",
       "270877    0.0   5.0   0.0   0.0   0.0   0.0   0.0   0.0   0.0   5.0  ...   \n",
       "270883    0.0   0.0   0.0   0.0   0.0   0.0   0.0   0.0   0.0   0.0  ...   \n",
       "270891    0.0   0.0   3.0   0.0   0.0   0.0   0.0   0.0   3.0   0.0  ...   \n",
       "270895    0.0   0.0   0.0   0.0   0.0   0.0   0.0   0.0   0.0   0.0  ...   \n",
       "\n",
       "movieId  3265  3266  4006  4424  4970  5060  6531  6677  6918  8739  \n",
       "userId                                                               \n",
       "25        0.0   0.0   0.0   0.0   0.0   0.0   0.0   0.0   0.0   0.0  \n",
       "33        0.0   0.0   0.0   0.0   0.0   0.0   0.0   0.0   0.0   0.0  \n",
       "58        0.0   0.0   0.0   0.0   0.0   0.0   0.0   0.0   0.0   0.0  \n",
       "80        0.0   0.0   0.0   0.0   0.0   0.0   0.0   0.0   0.0   0.0  \n",
       "91        0.0   0.0   0.0   0.0   0.0   0.0   0.0   0.0   0.0   0.0  \n",
       "...       ...   ...   ...   ...   ...   ...   ...   ...   ...   ...  \n",
       "270860    0.0   0.0   0.0   0.0   0.0   0.0   0.0   0.0   0.0   0.0  \n",
       "270877    0.0   0.0   0.0   0.0   0.0   0.0   0.0   0.0   0.0   0.0  \n",
       "270883    0.0   0.0   0.0   0.0   0.0   0.0   0.0   0.0   0.0   0.0  \n",
       "270891    0.0   0.0   0.0   0.0   0.0   0.0   0.0   0.0   0.0   0.0  \n",
       "270895    0.0   0.0   0.0   0.0   0.0   0.0   0.0   0.0   0.0   0.0  \n",
       "\n",
       "[29211 rows x 1453 columns]"
      ]
     },
     "execution_count": 40,
     "metadata": {},
     "output_type": "execute_result"
    }
   ],
   "source": [
    "#creating a sparse pivot table with users in rows and movies in columns\n",
    "pivot_table = ratings_train.pivot(index='userId', columns='movieId', values='rating').fillna(0)\n",
    "\n",
    "pivot_table"
   ]
  },
  {
   "cell_type": "code",
   "execution_count": 43,
   "metadata": {},
   "outputs": [
    {
     "data": {
      "text/plain": [
       "<29211x1453 sparse matrix of type '<class 'numpy.float64'>'\n",
       "\twith 1297155 stored elements in Compressed Sparse Row format>"
      ]
     },
     "execution_count": 43,
     "metadata": {},
     "output_type": "execute_result"
    }
   ],
   "source": [
    "#compressed Sparse Row matrix\n",
    "sparse_matrix = csr_matrix(pivot_table)\n",
    "sparse_matrix"
   ]
  },
  {
   "cell_type": "code",
   "execution_count": 45,
   "metadata": {},
   "outputs": [],
   "source": [
    "#the number of factors to factor the utility matrix\n",
    "NUMBER_OF_FACTORS = 15\n",
    "#performs matrix factorization of the original utility matrix\n",
    "#U, S, Vt = svds(pivot_matrix, k = NUMBER_OF_FACTORS_MF)\n",
    "U, S, Vt = svds(sparse_matrix, k = NUMBER_OF_FACTORS)"
   ]
  },
  {
   "cell_type": "code",
   "execution_count": 46,
   "metadata": {},
   "outputs": [
    {
     "data": {
      "text/plain": [
       "(29211, 15)"
      ]
     },
     "execution_count": 46,
     "metadata": {},
     "output_type": "execute_result"
    }
   ],
   "source": [
    "U.shape"
   ]
  },
  {
   "cell_type": "code",
   "execution_count": 48,
   "metadata": {},
   "outputs": [
    {
     "data": {
      "text/plain": [
       "(15, 1453)"
      ]
     },
     "execution_count": 48,
     "metadata": {},
     "output_type": "execute_result"
    }
   ],
   "source": [
    "Vt.shape"
   ]
  },
  {
   "cell_type": "code",
   "execution_count": 49,
   "metadata": {},
   "outputs": [
    {
     "data": {
      "text/plain": [
       "(15, 15)"
      ]
     },
     "execution_count": 49,
     "metadata": {},
     "output_type": "execute_result"
    }
   ],
   "source": [
    "S = np.diag(S)\n",
    "S.shape"
   ]
  },
  {
   "cell_type": "markdown",
   "metadata": {},
   "source": [
    "After the factorization, we try to reconstruct the original utility matrix by multiplying its factors. The resulting matrix is not sparse any more."
   ]
  },
  {
   "cell_type": "code",
   "execution_count": 50,
   "metadata": {},
   "outputs": [
    {
     "data": {
      "text/plain": [
       "array([[ 5.69106687e-02,  9.70456205e-02,  3.05937268e-01, ...,\n",
       "        -4.66342071e-05, -2.91902471e-03, -4.00640456e-04],\n",
       "       [ 1.92821485e+00,  7.43922108e-01, -1.48401380e-01, ...,\n",
       "        -2.19164785e-04,  4.34830505e-03, -4.83729788e-04],\n",
       "       [ 5.85156806e-02,  6.18996481e-01, -5.99100664e-02, ...,\n",
       "         4.65570049e-05, -1.72811583e-03, -1.84496734e-03],\n",
       "       ...,\n",
       "       [-9.32772494e-01, -1.99274704e-01,  8.08058850e-02, ...,\n",
       "        -3.80709137e-05,  3.25675748e-03,  2.01714956e-04],\n",
       "       [-4.21502730e-01, -2.10424152e-01,  6.01974240e-01, ...,\n",
       "        -3.97402146e-04, -5.61051387e-03, -2.56663619e-03],\n",
       "       [-6.13892391e-01,  1.45406932e-01,  1.38780257e-01, ...,\n",
       "        -2.84782492e-04, -5.63612394e-03, -1.92438409e-03]])"
      ]
     },
     "execution_count": 50,
     "metadata": {},
     "output_type": "execute_result"
    }
   ],
   "source": [
    "all_user_predicted_ratings = np.dot(np.dot(U, S), Vt) \n",
    "all_user_predicted_ratings"
   ]
  },
  {
   "cell_type": "code",
   "execution_count": 52,
   "metadata": {},
   "outputs": [],
   "source": [
    "all_user_predicted_ratings_norm = (all_user_predicted_ratings - all_user_predicted_ratings.min()) / (all_user_predicted_ratings.max() - all_user_predicted_ratings.min())"
   ]
  },
  {
   "cell_type": "code",
   "execution_count": 56,
   "metadata": {},
   "outputs": [
    {
     "data": {
      "text/html": [
       "<div>\n",
       "<style scoped>\n",
       "    .dataframe tbody tr th:only-of-type {\n",
       "        vertical-align: middle;\n",
       "    }\n",
       "\n",
       "    .dataframe tbody tr th {\n",
       "        vertical-align: top;\n",
       "    }\n",
       "\n",
       "    .dataframe thead th {\n",
       "        text-align: right;\n",
       "    }\n",
       "</style>\n",
       "<table border=\"1\" class=\"dataframe\">\n",
       "  <thead>\n",
       "    <tr style=\"text-align: right;\">\n",
       "      <th></th>\n",
       "      <th>25</th>\n",
       "      <th>33</th>\n",
       "      <th>58</th>\n",
       "      <th>80</th>\n",
       "      <th>91</th>\n",
       "      <th>93</th>\n",
       "      <th>101</th>\n",
       "      <th>103</th>\n",
       "      <th>112</th>\n",
       "      <th>114</th>\n",
       "      <th>...</th>\n",
       "      <th>270806</th>\n",
       "      <th>270825</th>\n",
       "      <th>270829</th>\n",
       "      <th>270832</th>\n",
       "      <th>270847</th>\n",
       "      <th>270860</th>\n",
       "      <th>270877</th>\n",
       "      <th>270883</th>\n",
       "      <th>270891</th>\n",
       "      <th>270895</th>\n",
       "    </tr>\n",
       "    <tr>\n",
       "      <th>movieId</th>\n",
       "      <th></th>\n",
       "      <th></th>\n",
       "      <th></th>\n",
       "      <th></th>\n",
       "      <th></th>\n",
       "      <th></th>\n",
       "      <th></th>\n",
       "      <th></th>\n",
       "      <th></th>\n",
       "      <th></th>\n",
       "      <th></th>\n",
       "      <th></th>\n",
       "      <th></th>\n",
       "      <th></th>\n",
       "      <th></th>\n",
       "      <th></th>\n",
       "      <th></th>\n",
       "      <th></th>\n",
       "      <th></th>\n",
       "      <th></th>\n",
       "      <th></th>\n",
       "    </tr>\n",
       "  </thead>\n",
       "  <tbody>\n",
       "    <tr>\n",
       "      <th>1</th>\n",
       "      <td>0.329512</td>\n",
       "      <td>0.478489</td>\n",
       "      <td>0.329640</td>\n",
       "      <td>0.375145</td>\n",
       "      <td>0.401416</td>\n",
       "      <td>0.366264</td>\n",
       "      <td>0.518202</td>\n",
       "      <td>0.357059</td>\n",
       "      <td>0.440305</td>\n",
       "      <td>0.316226</td>\n",
       "      <td>...</td>\n",
       "      <td>0.510420</td>\n",
       "      <td>0.281254</td>\n",
       "      <td>0.275548</td>\n",
       "      <td>0.387764</td>\n",
       "      <td>0.401453</td>\n",
       "      <td>0.442612</td>\n",
       "      <td>0.458504</td>\n",
       "      <td>0.250723</td>\n",
       "      <td>0.291425</td>\n",
       "      <td>0.276109</td>\n",
       "    </tr>\n",
       "    <tr>\n",
       "      <th>2</th>\n",
       "      <td>0.332707</td>\n",
       "      <td>0.384206</td>\n",
       "      <td>0.374260</td>\n",
       "      <td>0.373034</td>\n",
       "      <td>0.458848</td>\n",
       "      <td>0.335173</td>\n",
       "      <td>0.343932</td>\n",
       "      <td>0.392034</td>\n",
       "      <td>0.333562</td>\n",
       "      <td>0.328071</td>\n",
       "      <td>...</td>\n",
       "      <td>0.476883</td>\n",
       "      <td>0.364348</td>\n",
       "      <td>0.308913</td>\n",
       "      <td>0.422582</td>\n",
       "      <td>0.368390</td>\n",
       "      <td>0.461775</td>\n",
       "      <td>0.462229</td>\n",
       "      <td>0.309117</td>\n",
       "      <td>0.308229</td>\n",
       "      <td>0.336558</td>\n",
       "    </tr>\n",
       "    <tr>\n",
       "      <th>3</th>\n",
       "      <td>0.349338</td>\n",
       "      <td>0.313167</td>\n",
       "      <td>0.320212</td>\n",
       "      <td>0.319414</td>\n",
       "      <td>0.387419</td>\n",
       "      <td>0.331705</td>\n",
       "      <td>0.417520</td>\n",
       "      <td>0.317179</td>\n",
       "      <td>0.345359</td>\n",
       "      <td>0.325319</td>\n",
       "      <td>...</td>\n",
       "      <td>0.372607</td>\n",
       "      <td>0.339576</td>\n",
       "      <td>0.327089</td>\n",
       "      <td>0.326971</td>\n",
       "      <td>0.327357</td>\n",
       "      <td>0.299799</td>\n",
       "      <td>0.323024</td>\n",
       "      <td>0.331415</td>\n",
       "      <td>0.372905</td>\n",
       "      <td>0.336030</td>\n",
       "    </tr>\n",
       "    <tr>\n",
       "      <th>4</th>\n",
       "      <td>0.329992</td>\n",
       "      <td>0.317178</td>\n",
       "      <td>0.318794</td>\n",
       "      <td>0.321642</td>\n",
       "      <td>0.339738</td>\n",
       "      <td>0.332692</td>\n",
       "      <td>0.328048</td>\n",
       "      <td>0.316413</td>\n",
       "      <td>0.324336</td>\n",
       "      <td>0.328313</td>\n",
       "      <td>...</td>\n",
       "      <td>0.347452</td>\n",
       "      <td>0.329137</td>\n",
       "      <td>0.320449</td>\n",
       "      <td>0.330769</td>\n",
       "      <td>0.339276</td>\n",
       "      <td>0.314973</td>\n",
       "      <td>0.343105</td>\n",
       "      <td>0.328137</td>\n",
       "      <td>0.323058</td>\n",
       "      <td>0.330055</td>\n",
       "    </tr>\n",
       "    <tr>\n",
       "      <th>5</th>\n",
       "      <td>0.347031</td>\n",
       "      <td>0.311788</td>\n",
       "      <td>0.313940</td>\n",
       "      <td>0.322601</td>\n",
       "      <td>0.392250</td>\n",
       "      <td>0.338994</td>\n",
       "      <td>0.410179</td>\n",
       "      <td>0.314768</td>\n",
       "      <td>0.345543</td>\n",
       "      <td>0.325333</td>\n",
       "      <td>...</td>\n",
       "      <td>0.403359</td>\n",
       "      <td>0.338837</td>\n",
       "      <td>0.324285</td>\n",
       "      <td>0.354424</td>\n",
       "      <td>0.335330</td>\n",
       "      <td>0.311144</td>\n",
       "      <td>0.356327</td>\n",
       "      <td>0.328973</td>\n",
       "      <td>0.347935</td>\n",
       "      <td>0.338034</td>\n",
       "    </tr>\n",
       "    <tr>\n",
       "      <th>...</th>\n",
       "      <td>...</td>\n",
       "      <td>...</td>\n",
       "      <td>...</td>\n",
       "      <td>...</td>\n",
       "      <td>...</td>\n",
       "      <td>...</td>\n",
       "      <td>...</td>\n",
       "      <td>...</td>\n",
       "      <td>...</td>\n",
       "      <td>...</td>\n",
       "      <td>...</td>\n",
       "      <td>...</td>\n",
       "      <td>...</td>\n",
       "      <td>...</td>\n",
       "      <td>...</td>\n",
       "      <td>...</td>\n",
       "      <td>...</td>\n",
       "      <td>...</td>\n",
       "      <td>...</td>\n",
       "      <td>...</td>\n",
       "      <td>...</td>\n",
       "    </tr>\n",
       "    <tr>\n",
       "      <th>5060</th>\n",
       "      <td>0.325067</td>\n",
       "      <td>0.318398</td>\n",
       "      <td>0.321830</td>\n",
       "      <td>0.325430</td>\n",
       "      <td>0.317153</td>\n",
       "      <td>0.326031</td>\n",
       "      <td>0.319177</td>\n",
       "      <td>0.327828</td>\n",
       "      <td>0.325740</td>\n",
       "      <td>0.328311</td>\n",
       "      <td>...</td>\n",
       "      <td>0.326360</td>\n",
       "      <td>0.326986</td>\n",
       "      <td>0.323912</td>\n",
       "      <td>0.331939</td>\n",
       "      <td>0.320715</td>\n",
       "      <td>0.326326</td>\n",
       "      <td>0.323582</td>\n",
       "      <td>0.329656</td>\n",
       "      <td>0.323279</td>\n",
       "      <td>0.327051</td>\n",
       "    </tr>\n",
       "    <tr>\n",
       "      <th>6531</th>\n",
       "      <td>0.324893</td>\n",
       "      <td>0.325047</td>\n",
       "      <td>0.324909</td>\n",
       "      <td>0.324829</td>\n",
       "      <td>0.324588</td>\n",
       "      <td>0.325014</td>\n",
       "      <td>0.324796</td>\n",
       "      <td>0.324795</td>\n",
       "      <td>0.325105</td>\n",
       "      <td>0.325145</td>\n",
       "      <td>...</td>\n",
       "      <td>0.324695</td>\n",
       "      <td>0.324881</td>\n",
       "      <td>0.324854</td>\n",
       "      <td>0.324943</td>\n",
       "      <td>0.324964</td>\n",
       "      <td>0.324656</td>\n",
       "      <td>0.325133</td>\n",
       "      <td>0.324911</td>\n",
       "      <td>0.324669</td>\n",
       "      <td>0.324875</td>\n",
       "    </tr>\n",
       "    <tr>\n",
       "      <th>6677</th>\n",
       "      <td>0.324978</td>\n",
       "      <td>0.324964</td>\n",
       "      <td>0.324985</td>\n",
       "      <td>0.324970</td>\n",
       "      <td>0.324958</td>\n",
       "      <td>0.324986</td>\n",
       "      <td>0.324988</td>\n",
       "      <td>0.324941</td>\n",
       "      <td>0.324999</td>\n",
       "      <td>0.325002</td>\n",
       "      <td>...</td>\n",
       "      <td>0.324969</td>\n",
       "      <td>0.324978</td>\n",
       "      <td>0.324981</td>\n",
       "      <td>0.324988</td>\n",
       "      <td>0.324946</td>\n",
       "      <td>0.324921</td>\n",
       "      <td>0.325001</td>\n",
       "      <td>0.324979</td>\n",
       "      <td>0.324950</td>\n",
       "      <td>0.324959</td>\n",
       "    </tr>\n",
       "    <tr>\n",
       "      <th>6918</th>\n",
       "      <td>0.324749</td>\n",
       "      <td>0.325328</td>\n",
       "      <td>0.324844</td>\n",
       "      <td>0.324463</td>\n",
       "      <td>0.325002</td>\n",
       "      <td>0.324903</td>\n",
       "      <td>0.324919</td>\n",
       "      <td>0.324196</td>\n",
       "      <td>0.325601</td>\n",
       "      <td>0.325283</td>\n",
       "      <td>...</td>\n",
       "      <td>0.324608</td>\n",
       "      <td>0.324643</td>\n",
       "      <td>0.324908</td>\n",
       "      <td>0.324734</td>\n",
       "      <td>0.325590</td>\n",
       "      <td>0.324026</td>\n",
       "      <td>0.325743</td>\n",
       "      <td>0.325241</td>\n",
       "      <td>0.324535</td>\n",
       "      <td>0.324533</td>\n",
       "    </tr>\n",
       "    <tr>\n",
       "      <th>8739</th>\n",
       "      <td>0.324950</td>\n",
       "      <td>0.324943</td>\n",
       "      <td>0.324835</td>\n",
       "      <td>0.324761</td>\n",
       "      <td>0.324985</td>\n",
       "      <td>0.325014</td>\n",
       "      <td>0.324954</td>\n",
       "      <td>0.324676</td>\n",
       "      <td>0.324986</td>\n",
       "      <td>0.325104</td>\n",
       "      <td>...</td>\n",
       "      <td>0.325043</td>\n",
       "      <td>0.324998</td>\n",
       "      <td>0.324894</td>\n",
       "      <td>0.325059</td>\n",
       "      <td>0.324881</td>\n",
       "      <td>0.324518</td>\n",
       "      <td>0.325231</td>\n",
       "      <td>0.324998</td>\n",
       "      <td>0.324777</td>\n",
       "      <td>0.324828</td>\n",
       "    </tr>\n",
       "  </tbody>\n",
       "</table>\n",
       "<p>1453 rows × 29211 columns</p>\n",
       "</div>"
      ],
      "text/plain": [
       "           25        33        58        80        91        93        101     \\\n",
       "movieId                                                                         \n",
       "1        0.329512  0.478489  0.329640  0.375145  0.401416  0.366264  0.518202   \n",
       "2        0.332707  0.384206  0.374260  0.373034  0.458848  0.335173  0.343932   \n",
       "3        0.349338  0.313167  0.320212  0.319414  0.387419  0.331705  0.417520   \n",
       "4        0.329992  0.317178  0.318794  0.321642  0.339738  0.332692  0.328048   \n",
       "5        0.347031  0.311788  0.313940  0.322601  0.392250  0.338994  0.410179   \n",
       "...           ...       ...       ...       ...       ...       ...       ...   \n",
       "5060     0.325067  0.318398  0.321830  0.325430  0.317153  0.326031  0.319177   \n",
       "6531     0.324893  0.325047  0.324909  0.324829  0.324588  0.325014  0.324796   \n",
       "6677     0.324978  0.324964  0.324985  0.324970  0.324958  0.324986  0.324988   \n",
       "6918     0.324749  0.325328  0.324844  0.324463  0.325002  0.324903  0.324919   \n",
       "8739     0.324950  0.324943  0.324835  0.324761  0.324985  0.325014  0.324954   \n",
       "\n",
       "           103       112       114     ...    270806    270825    270829  \\\n",
       "movieId                                ...                                 \n",
       "1        0.357059  0.440305  0.316226  ...  0.510420  0.281254  0.275548   \n",
       "2        0.392034  0.333562  0.328071  ...  0.476883  0.364348  0.308913   \n",
       "3        0.317179  0.345359  0.325319  ...  0.372607  0.339576  0.327089   \n",
       "4        0.316413  0.324336  0.328313  ...  0.347452  0.329137  0.320449   \n",
       "5        0.314768  0.345543  0.325333  ...  0.403359  0.338837  0.324285   \n",
       "...           ...       ...       ...  ...       ...       ...       ...   \n",
       "5060     0.327828  0.325740  0.328311  ...  0.326360  0.326986  0.323912   \n",
       "6531     0.324795  0.325105  0.325145  ...  0.324695  0.324881  0.324854   \n",
       "6677     0.324941  0.324999  0.325002  ...  0.324969  0.324978  0.324981   \n",
       "6918     0.324196  0.325601  0.325283  ...  0.324608  0.324643  0.324908   \n",
       "8739     0.324676  0.324986  0.325104  ...  0.325043  0.324998  0.324894   \n",
       "\n",
       "           270832    270847    270860    270877    270883    270891    270895  \n",
       "movieId                                                                        \n",
       "1        0.387764  0.401453  0.442612  0.458504  0.250723  0.291425  0.276109  \n",
       "2        0.422582  0.368390  0.461775  0.462229  0.309117  0.308229  0.336558  \n",
       "3        0.326971  0.327357  0.299799  0.323024  0.331415  0.372905  0.336030  \n",
       "4        0.330769  0.339276  0.314973  0.343105  0.328137  0.323058  0.330055  \n",
       "5        0.354424  0.335330  0.311144  0.356327  0.328973  0.347935  0.338034  \n",
       "...           ...       ...       ...       ...       ...       ...       ...  \n",
       "5060     0.331939  0.320715  0.326326  0.323582  0.329656  0.323279  0.327051  \n",
       "6531     0.324943  0.324964  0.324656  0.325133  0.324911  0.324669  0.324875  \n",
       "6677     0.324988  0.324946  0.324921  0.325001  0.324979  0.324950  0.324959  \n",
       "6918     0.324734  0.325590  0.324026  0.325743  0.325241  0.324535  0.324533  \n",
       "8739     0.325059  0.324881  0.324518  0.325231  0.324998  0.324777  0.324828  \n",
       "\n",
       "[1453 rows x 29211 columns]"
      ]
     },
     "execution_count": 56,
     "metadata": {},
     "output_type": "execute_result"
    }
   ],
   "source": [
    "#converting the reconstructed matrix back to a Pandas dataframe\n",
    "users_ids = list(pivot_table.index)\n",
    "cf_preds_df = pd.DataFrame(all_user_predicted_ratings_norm, columns = pivot_table.columns, index=users_ids).transpose()\n",
    "cf_preds_df"
   ]
  },
  {
   "cell_type": "markdown",
   "metadata": {},
   "source": [
    "..............................................."
   ]
  },
  {
   "cell_type": "code",
   "execution_count": null,
   "metadata": {},
   "outputs": [],
   "source": [
    "class CFRecommender:\n",
    "    \n",
    "    MODEL_NAME = 'Collaborative Filtering'\n",
    "    \n",
    "    def __init__(self, cf_predictions, items=None):\n",
    "        self.cf_predictions = cf_predictions\n",
    "        self.items = items\n",
    "        \n",
    "    def get_model_name(self):\n",
    "        return self.MODEL_NAME\n",
    "        \n",
    "    def recommend_items(self, user_id, items_to_ignore=[], topn=10, verbose=False):\n",
    "        #get and sort the user's predictions\n",
    "        sorted_user_predictions = self.cf_predictions_df[user_id].sort_values(ascending=False) \\\n",
    "                                    .reset_index().rename(columns={user_id: 'recStrength'})\n",
    "\n",
    "        # Recommend the highest predicted rating movies that the user hasn't seen yet.\n",
    "        recommendations_df = sorted_user_predictions[~sorted_user_predictions['contentId'].isin(items_to_ignore)] \\\n",
    "                               .sort_values('recStrength', ascending = False) \\\n",
    "                               .head(topn)\n",
    "\n",
    "        if verbose:\n",
    "            if self.items_df is None:\n",
    "                raise Exception('\"items_df\" is required in verbose mode')\n",
    "\n",
    "            recommendations_df = recommendations_df.merge(self.items_df, how = 'left', \n",
    "                                                          left_on = 'contentId', \n",
    "                                                          right_on = 'contentId')[['recStrength', 'contentId', 'title', 'url', 'lang']]\n",
    "\n",
    "\n",
    "        return recommendations_df\n",
    "    \n",
    "cf_recommender_model = CFRecommender(cf_preds_df, articles_df)"
   ]
  }
 ],
 "metadata": {
  "colab": {
   "provenance": []
  },
  "kernelspec": {
   "display_name": "Python 3 (ipykernel)",
   "language": "python",
   "name": "python3"
  },
  "language_info": {
   "codemirror_mode": {
    "name": "ipython",
    "version": 3
   },
   "file_extension": ".py",
   "mimetype": "text/x-python",
   "name": "python",
   "nbconvert_exporter": "python",
   "pygments_lexer": "ipython3",
   "version": "3.9.7"
  }
 },
 "nbformat": 4,
 "nbformat_minor": 1
}
